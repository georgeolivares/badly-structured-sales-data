{
 "cells": [
  {
   "cell_type": "code",
   "execution_count": 127,
   "metadata": {},
   "outputs": [],
   "source": [
    "import pandas as pd\n",
    "\n",
    "import numpy as np\n",
    "\n",
    "import matplotlib.pyplot as plt\n",
    "\n",
    "import seaborn as sns"
   ]
  },
  {
   "cell_type": "code",
   "execution_count": 128,
   "metadata": {},
   "outputs": [],
   "source": [
    "# Read file\n",
    "\n",
    "df = pd.read_excel('C:\\\\Users\\\\jorge\\\\Documents\\\\GitHub\\\\badly-structured-sales-data\\\\1.-Badly-Structured-Sales-Data-1.xlsx')"
   ]
  },
  {
   "cell_type": "code",
   "execution_count": 129,
   "metadata": {},
   "outputs": [
    {
     "data": {
      "text/html": [
       "<div>\n",
       "<style scoped>\n",
       "    .dataframe tbody tr th:only-of-type {\n",
       "        vertical-align: middle;\n",
       "    }\n",
       "\n",
       "    .dataframe tbody tr th {\n",
       "        vertical-align: top;\n",
       "    }\n",
       "\n",
       "    .dataframe thead th {\n",
       "        text-align: right;\n",
       "    }\n",
       "</style>\n",
       "<table border=\"1\" class=\"dataframe\">\n",
       "  <thead>\n",
       "    <tr style=\"text-align: right;\">\n",
       "      <th></th>\n",
       "      <th>Segment&gt;&gt;</th>\n",
       "      <th>Consumer</th>\n",
       "      <th>Unnamed: 2</th>\n",
       "      <th>Unnamed: 3</th>\n",
       "      <th>Unnamed: 4</th>\n",
       "      <th>Consumer Total</th>\n",
       "      <th>Corporate</th>\n",
       "      <th>Unnamed: 7</th>\n",
       "      <th>Unnamed: 8</th>\n",
       "      <th>Unnamed: 9</th>\n",
       "      <th>Corporate Total</th>\n",
       "      <th>Home Office</th>\n",
       "      <th>Unnamed: 12</th>\n",
       "      <th>Unnamed: 13</th>\n",
       "      <th>Unnamed: 14</th>\n",
       "      <th>Home Office Total</th>\n",
       "    </tr>\n",
       "  </thead>\n",
       "  <tbody>\n",
       "    <tr>\n",
       "      <th>0</th>\n",
       "      <td>Ship Mode&gt;&gt;</td>\n",
       "      <td>First Class</td>\n",
       "      <td>Same Day</td>\n",
       "      <td>Second Class</td>\n",
       "      <td>Standard Class</td>\n",
       "      <td>NaN</td>\n",
       "      <td>First Class</td>\n",
       "      <td>Same Day</td>\n",
       "      <td>Second Class</td>\n",
       "      <td>Standard Class</td>\n",
       "      <td>NaN</td>\n",
       "      <td>First Class</td>\n",
       "      <td>Same Day</td>\n",
       "      <td>Second Class</td>\n",
       "      <td>Standard Class</td>\n",
       "      <td>NaN</td>\n",
       "    </tr>\n",
       "    <tr>\n",
       "      <th>1</th>\n",
       "      <td>Order ID</td>\n",
       "      <td>NaN</td>\n",
       "      <td>NaN</td>\n",
       "      <td>NaN</td>\n",
       "      <td>NaN</td>\n",
       "      <td>NaN</td>\n",
       "      <td>NaN</td>\n",
       "      <td>NaN</td>\n",
       "      <td>NaN</td>\n",
       "      <td>NaN</td>\n",
       "      <td>NaN</td>\n",
       "      <td>NaN</td>\n",
       "      <td>NaN</td>\n",
       "      <td>NaN</td>\n",
       "      <td>NaN</td>\n",
       "      <td>NaN</td>\n",
       "    </tr>\n",
       "    <tr>\n",
       "      <th>2</th>\n",
       "      <td>CA-2011-100293</td>\n",
       "      <td>NaN</td>\n",
       "      <td>NaN</td>\n",
       "      <td>NaN</td>\n",
       "      <td>NaN</td>\n",
       "      <td>NaN</td>\n",
       "      <td>NaN</td>\n",
       "      <td>NaN</td>\n",
       "      <td>NaN</td>\n",
       "      <td>NaN</td>\n",
       "      <td>NaN</td>\n",
       "      <td>NaN</td>\n",
       "      <td>NaN</td>\n",
       "      <td>NaN</td>\n",
       "      <td>91.056</td>\n",
       "      <td>91.056</td>\n",
       "    </tr>\n",
       "    <tr>\n",
       "      <th>3</th>\n",
       "      <td>CA-2011-100706</td>\n",
       "      <td>NaN</td>\n",
       "      <td>NaN</td>\n",
       "      <td>129.44</td>\n",
       "      <td>NaN</td>\n",
       "      <td>129.44</td>\n",
       "      <td>NaN</td>\n",
       "      <td>NaN</td>\n",
       "      <td>NaN</td>\n",
       "      <td>NaN</td>\n",
       "      <td>NaN</td>\n",
       "      <td>NaN</td>\n",
       "      <td>NaN</td>\n",
       "      <td>NaN</td>\n",
       "      <td>NaN</td>\n",
       "      <td>NaN</td>\n",
       "    </tr>\n",
       "    <tr>\n",
       "      <th>4</th>\n",
       "      <td>CA-2011-100895</td>\n",
       "      <td>NaN</td>\n",
       "      <td>NaN</td>\n",
       "      <td>NaN</td>\n",
       "      <td>605.47</td>\n",
       "      <td>605.47</td>\n",
       "      <td>NaN</td>\n",
       "      <td>NaN</td>\n",
       "      <td>NaN</td>\n",
       "      <td>NaN</td>\n",
       "      <td>NaN</td>\n",
       "      <td>NaN</td>\n",
       "      <td>NaN</td>\n",
       "      <td>NaN</td>\n",
       "      <td>NaN</td>\n",
       "      <td>NaN</td>\n",
       "    </tr>\n",
       "  </tbody>\n",
       "</table>\n",
       "</div>"
      ],
      "text/plain": [
       "        Segment>>     Consumer Unnamed: 2    Unnamed: 3      Unnamed: 4  \\\n",
       "0     Ship Mode>>  First Class   Same Day  Second Class  Standard Class   \n",
       "1        Order ID          NaN        NaN           NaN             NaN   \n",
       "2  CA-2011-100293          NaN        NaN           NaN             NaN   \n",
       "3  CA-2011-100706          NaN        NaN        129.44             NaN   \n",
       "4  CA-2011-100895          NaN        NaN           NaN          605.47   \n",
       "\n",
       "   Consumer Total    Corporate Unnamed: 7    Unnamed: 8      Unnamed: 9  \\\n",
       "0             NaN  First Class   Same Day  Second Class  Standard Class   \n",
       "1             NaN          NaN        NaN           NaN             NaN   \n",
       "2             NaN          NaN        NaN           NaN             NaN   \n",
       "3          129.44          NaN        NaN           NaN             NaN   \n",
       "4          605.47          NaN        NaN           NaN             NaN   \n",
       "\n",
       "   Corporate Total  Home Office Unnamed: 12   Unnamed: 13     Unnamed: 14  \\\n",
       "0              NaN  First Class    Same Day  Second Class  Standard Class   \n",
       "1              NaN          NaN         NaN           NaN             NaN   \n",
       "2              NaN          NaN         NaN           NaN          91.056   \n",
       "3              NaN          NaN         NaN           NaN             NaN   \n",
       "4              NaN          NaN         NaN           NaN             NaN   \n",
       "\n",
       "   Home Office Total  \n",
       "0                NaN  \n",
       "1                NaN  \n",
       "2             91.056  \n",
       "3                NaN  \n",
       "4                NaN  "
      ]
     },
     "execution_count": 129,
     "metadata": {},
     "output_type": "execute_result"
    }
   ],
   "source": [
    "df.head()"
   ]
  },
  {
   "cell_type": "code",
   "execution_count": 130,
   "metadata": {},
   "outputs": [
    {
     "data": {
      "text/plain": [
       "(825, 16)"
      ]
     },
     "execution_count": 130,
     "metadata": {},
     "output_type": "execute_result"
    }
   ],
   "source": [
    "# Row and column count\n",
    "\n",
    "df.shape"
   ]
  },
  {
   "cell_type": "code",
   "execution_count": 132,
   "metadata": {},
   "outputs": [
    {
     "name": "stdout",
     "output_type": "stream",
     "text": [
      "Index(['Segment>>', 'Consumer', 'Same Day', 'Second Class', 'Standard Class',\n",
      "       'Consumer Total', 'Corporate', 'Same Day', 'Second Class',\n",
      "       'Standard Class', 'Corporate Total', 'Home Office', 'Same Day',\n",
      "       'Second Class', 'Standard Class', 'Home Office Total'],\n",
      "      dtype='object')\n"
     ]
    }
   ],
   "source": [
    "# Find columns with unnamed\n",
    "\n",
    "filt_contains_unnamed = df.columns.str.contains('Unnamed')\n",
    "\n",
    "# Replace columns with string 'Unnamed'\n",
    "\n",
    "col_ind = 0\n",
    "\n",
    "new_cols = []\n",
    "\n",
    "for i in df.columns.str.contains('Unnamed'):\n",
    "    if i == True:\n",
    "        new_cols.append(df.iloc[0, col_ind])\n",
    "    else:\n",
    "        new_cols.append(df.columns[col_ind])\n",
    "    col_ind += 1\n",
    "\n",
    "df.columns = new_cols\n",
    "\n",
    "print(df.columns)"
   ]
  },
  {
   "cell_type": "code",
   "execution_count": 133,
   "metadata": {},
   "outputs": [
    {
     "name": "stdout",
     "output_type": "stream",
     "text": [
      "Index(['Segment', 'Consumer', 'Same Day', 'Second Class', 'Standard Class',\n",
      "       'Consumer Total', 'Corporate', 'Same Day', 'Second Class',\n",
      "       'Standard Class', 'Corporate Total', 'Home Office', 'Same Day',\n",
      "       'Second Class', 'Standard Class', 'Home Office Total'],\n",
      "      dtype='object')\n"
     ]
    }
   ],
   "source": [
    "# Remove special characters from column names\n",
    "\n",
    "df.columns = df.columns.str.replace('>', '')\n",
    "\n",
    "# df.columns = df.columns.str.replace('[>, @, #]', '')\n",
    "\n",
    "print(df.columns)"
   ]
  },
  {
   "cell_type": "code",
   "execution_count": 137,
   "metadata": {},
   "outputs": [
    {
     "data": {
      "text/plain": [
       "Segment                 Ship Mode>>\n",
       "Consumer                First Class\n",
       "Same Day                   Same Day\n",
       "Second Class           Second Class\n",
       "Standard Class       Standard Class\n",
       "Consumer Total                  NaN\n",
       "Corporate               First Class\n",
       "Same Day                   Same Day\n",
       "Second Class           Second Class\n",
       "Standard Class       Standard Class\n",
       "Corporate Total                 NaN\n",
       "Home Office             First Class\n",
       "Same Day                   Same Day\n",
       "Second Class           Second Class\n",
       "Standard Class       Standard Class\n",
       "Home Office Total               NaN\n",
       "Name: 0, dtype: object"
      ]
     },
     "execution_count": 137,
     "metadata": {},
     "output_type": "execute_result"
    }
   ],
   "source": [
    "df.iloc[0]"
   ]
  },
  {
   "cell_type": "code",
   "execution_count": 187,
   "metadata": {},
   "outputs": [
    {
     "data": {
      "text/plain": [
       "Index(['Segment', 'Consumer First Class', 'Consumer Same Day',\n",
       "       'Consumer Second Class', 'Consumer Standard Class', 'Consumer Total',\n",
       "       'Corporate', 'Consumer Same Day', 'Consumer Second Class',\n",
       "       'Consumer Standard Class', 'Corporate Total', 'Home Office',\n",
       "       'Consumer Same Day', 'Consumer Second Class', 'Consumer Standard Class',\n",
       "       'Home Office Total'],\n",
       "      dtype='object')"
      ]
     },
     "execution_count": 187,
     "metadata": {},
     "output_type": "execute_result"
    }
   ],
   "source": [
    "df.columns"
   ]
  },
  {
   "cell_type": "code",
   "execution_count": 186,
   "metadata": {},
   "outputs": [
    {
     "name": "stdout",
     "output_type": "stream",
     "text": [
      "Consumer First Class\n",
      "Consumer Same Day\n",
      "Consumer Second Class\n",
      "Consumer Standard Class\n",
      "Index(['Segment', 'Consumer First Class', 'Consumer Same Day',\n",
      "       'Consumer Second Class', 'Consumer Standard Class', 'Consumer Total',\n",
      "       'Corporate', 'Consumer Same Day', 'Consumer Second Class',\n",
      "       'Consumer Standard Class', 'Corporate Total', 'Home Office',\n",
      "       'Consumer Same Day', 'Consumer Second Class', 'Consumer Standard Class',\n",
      "       'Home Office Total'],\n",
      "      dtype='object')\n"
     ]
    }
   ],
   "source": [
    "cols_consumer = [i for i in df.iloc[0, 1:5]]\n",
    "num = 1\n",
    "\n",
    "for i in cols_consumer:\n",
    "    test = ' '.join(('Consumer', i))\n",
    "    df.rename(columns={df.columns[num]: test}, inplace= True)\n",
    "    print(df.columns[num])\n",
    "    num += 1\n",
    "\n",
    "print(df.columns)\n"
   ]
  },
  {
   "cell_type": "code",
   "execution_count": 134,
   "metadata": {},
   "outputs": [
    {
     "data": {
      "text/plain": [
       "<AxesSubplot:>"
      ]
     },
     "execution_count": 134,
     "metadata": {},
     "output_type": "execute_result"
    },
    {
     "data": {
      "image/png": "[encoded data removed]",
      "text/plain": [
       "<Figure size 2160x720 with 2 Axes>"
      ]
     },
     "metadata": {
      "needs_background": "light"
     },
     "output_type": "display_data"
    }
   ],
   "source": [
    "# View empty and non-empty values\n",
    "\n",
    "nonempty_cells = df.notnull()\n",
    "\n",
    "plt.subplots(figsize=(30,10))\n",
    "\n",
    "sns.heatmap(nonempty_cells, cmap=sns.color_palette(['#fa0000', '#66cd00']))"
   ]
  },
  {
   "cell_type": "code",
   "execution_count": 135,
   "metadata": {},
   "outputs": [
    {
     "data": {
      "text/plain": [
       "0      False\n",
       "1      False\n",
       "2      False\n",
       "3      False\n",
       "4      False\n",
       "       ...  \n",
       "820    False\n",
       "821    False\n",
       "822    False\n",
       "823    False\n",
       "824    False\n",
       "Name: Segment, Length: 825, dtype: bool"
      ]
     },
     "execution_count": 135,
     "metadata": {},
     "output_type": "execute_result"
    }
   ],
   "source": [
    "# Empty values per column\n",
    "\n",
    "filt_empty_consumer = df['Segment'] == np.empty\n",
    "\n",
    "filt_empty_consumer\n"
   ]
  },
  {
   "cell_type": "code",
   "execution_count": 136,
   "metadata": {},
   "outputs": [],
   "source": [
    "# Meaning of columns"
   ]
  }
 ],
 "metadata": {
  "interpreter": {
   "hash": "7d5c4801ed2f7111b96636c312e7b40cdf96baf0f798db38a95b8dd3c0de6eb6"
  },
  "kernelspec": {
   "display_name": "Python 3.9.7 ('base')",
   "language": "python",
   "name": "python3"
  },
  "language_info": {
   "codemirror_mode": {
    "name": "ipython",
    "version": 3
   },
   "file_extension": ".py",
   "mimetype": "text/x-python",
   "name": "python",
   "nbconvert_exporter": "python",
   "pygments_lexer": "ipython3",
   "version": "3.9.7"
  },
  "orig_nbformat": 4
 },
 "nbformat": 4,
 "nbformat_minor": 2
}
