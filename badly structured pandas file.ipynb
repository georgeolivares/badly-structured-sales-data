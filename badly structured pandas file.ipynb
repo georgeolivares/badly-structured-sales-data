{
 "cells": [
  {
   "cell_type": "markdown",
   "metadata": {},
   "source": [
    "# Badly Structured Sales Dataset Cleansing"
   ]
  },
  {
   "cell_type": "markdown",
   "metadata": {},
   "source": [
    "Data retrieved from:\n",
    "https://foresightbi.com.ng/microsoft-power-bi/dirty-data-samples-to-practice-on/"
   ]
  },
  {
   "cell_type": "markdown",
   "metadata": {},
   "source": [
    "![](https://foresightbi.com.ng/wp-content/uploads/2020/05/1.jpg)"
   ]
  },
  {
   "cell_type": "code",
   "execution_count": 3,
   "metadata": {},
   "outputs": [],
   "source": [
    "import pandas as pd\n",
    "\n",
    "import numpy as np\n",
    "\n",
    "import matplotlib.pyplot as plt\n",
    "\n",
    "import seaborn as sns"
   ]
  },
  {
   "cell_type": "markdown",
   "metadata": {},
   "source": [
    "# Read file"
   ]
  },
  {
   "cell_type": "code",
   "execution_count": 4,
   "metadata": {},
   "outputs": [],
   "source": [
    "df = pd.read_excel('C:\\\\Users\\\\jorge\\\\Documents\\\\GitHub\\\\badly-structured-sales-data\\\\1.-Badly-Structured-Sales-Data-1.xlsx')"
   ]
  },
  {
   "cell_type": "code",
   "execution_count": 5,
   "metadata": {},
   "outputs": [
    {
     "data": {
      "text/html": [
       "<div>\n",
       "<style scoped>\n",
       "    .dataframe tbody tr th:only-of-type {\n",
       "        vertical-align: middle;\n",
       "    }\n",
       "\n",
       "    .dataframe tbody tr th {\n",
       "        vertical-align: top;\n",
       "    }\n",
       "\n",
       "    .dataframe thead th {\n",
       "        text-align: right;\n",
       "    }\n",
       "</style>\n",
       "<table border=\"1\" class=\"dataframe\">\n",
       "  <thead>\n",
       "    <tr style=\"text-align: right;\">\n",
       "      <th></th>\n",
       "      <th>Segment&gt;&gt;</th>\n",
       "      <th>Consumer</th>\n",
       "      <th>Unnamed: 2</th>\n",
       "      <th>Unnamed: 3</th>\n",
       "      <th>Unnamed: 4</th>\n",
       "      <th>Consumer Total</th>\n",
       "      <th>Corporate</th>\n",
       "      <th>Unnamed: 7</th>\n",
       "      <th>Unnamed: 8</th>\n",
       "      <th>Unnamed: 9</th>\n",
       "      <th>Corporate Total</th>\n",
       "      <th>Home Office</th>\n",
       "      <th>Unnamed: 12</th>\n",
       "      <th>Unnamed: 13</th>\n",
       "      <th>Unnamed: 14</th>\n",
       "      <th>Home Office Total</th>\n",
       "    </tr>\n",
       "  </thead>\n",
       "  <tbody>\n",
       "    <tr>\n",
       "      <th>0</th>\n",
       "      <td>Ship Mode&gt;&gt;</td>\n",
       "      <td>First Class</td>\n",
       "      <td>Same Day</td>\n",
       "      <td>Second Class</td>\n",
       "      <td>Standard Class</td>\n",
       "      <td>NaN</td>\n",
       "      <td>First Class</td>\n",
       "      <td>Same Day</td>\n",
       "      <td>Second Class</td>\n",
       "      <td>Standard Class</td>\n",
       "      <td>NaN</td>\n",
       "      <td>First Class</td>\n",
       "      <td>Same Day</td>\n",
       "      <td>Second Class</td>\n",
       "      <td>Standard Class</td>\n",
       "      <td>NaN</td>\n",
       "    </tr>\n",
       "    <tr>\n",
       "      <th>1</th>\n",
       "      <td>Order ID</td>\n",
       "      <td>NaN</td>\n",
       "      <td>NaN</td>\n",
       "      <td>NaN</td>\n",
       "      <td>NaN</td>\n",
       "      <td>NaN</td>\n",
       "      <td>NaN</td>\n",
       "      <td>NaN</td>\n",
       "      <td>NaN</td>\n",
       "      <td>NaN</td>\n",
       "      <td>NaN</td>\n",
       "      <td>NaN</td>\n",
       "      <td>NaN</td>\n",
       "      <td>NaN</td>\n",
       "      <td>NaN</td>\n",
       "      <td>NaN</td>\n",
       "    </tr>\n",
       "    <tr>\n",
       "      <th>2</th>\n",
       "      <td>CA-2011-100293</td>\n",
       "      <td>NaN</td>\n",
       "      <td>NaN</td>\n",
       "      <td>NaN</td>\n",
       "      <td>NaN</td>\n",
       "      <td>NaN</td>\n",
       "      <td>NaN</td>\n",
       "      <td>NaN</td>\n",
       "      <td>NaN</td>\n",
       "      <td>NaN</td>\n",
       "      <td>NaN</td>\n",
       "      <td>NaN</td>\n",
       "      <td>NaN</td>\n",
       "      <td>NaN</td>\n",
       "      <td>91.056</td>\n",
       "      <td>91.056</td>\n",
       "    </tr>\n",
       "    <tr>\n",
       "      <th>3</th>\n",
       "      <td>CA-2011-100706</td>\n",
       "      <td>NaN</td>\n",
       "      <td>NaN</td>\n",
       "      <td>129.44</td>\n",
       "      <td>NaN</td>\n",
       "      <td>129.44</td>\n",
       "      <td>NaN</td>\n",
       "      <td>NaN</td>\n",
       "      <td>NaN</td>\n",
       "      <td>NaN</td>\n",
       "      <td>NaN</td>\n",
       "      <td>NaN</td>\n",
       "      <td>NaN</td>\n",
       "      <td>NaN</td>\n",
       "      <td>NaN</td>\n",
       "      <td>NaN</td>\n",
       "    </tr>\n",
       "    <tr>\n",
       "      <th>4</th>\n",
       "      <td>CA-2011-100895</td>\n",
       "      <td>NaN</td>\n",
       "      <td>NaN</td>\n",
       "      <td>NaN</td>\n",
       "      <td>605.47</td>\n",
       "      <td>605.47</td>\n",
       "      <td>NaN</td>\n",
       "      <td>NaN</td>\n",
       "      <td>NaN</td>\n",
       "      <td>NaN</td>\n",
       "      <td>NaN</td>\n",
       "      <td>NaN</td>\n",
       "      <td>NaN</td>\n",
       "      <td>NaN</td>\n",
       "      <td>NaN</td>\n",
       "      <td>NaN</td>\n",
       "    </tr>\n",
       "  </tbody>\n",
       "</table>\n",
       "</div>"
      ],
      "text/plain": [
       "        Segment>>     Consumer Unnamed: 2    Unnamed: 3      Unnamed: 4  \\\n",
       "0     Ship Mode>>  First Class   Same Day  Second Class  Standard Class   \n",
       "1        Order ID          NaN        NaN           NaN             NaN   \n",
       "2  CA-2011-100293          NaN        NaN           NaN             NaN   \n",
       "3  CA-2011-100706          NaN        NaN        129.44             NaN   \n",
       "4  CA-2011-100895          NaN        NaN           NaN          605.47   \n",
       "\n",
       "   Consumer Total    Corporate Unnamed: 7    Unnamed: 8      Unnamed: 9  \\\n",
       "0             NaN  First Class   Same Day  Second Class  Standard Class   \n",
       "1             NaN          NaN        NaN           NaN             NaN   \n",
       "2             NaN          NaN        NaN           NaN             NaN   \n",
       "3          129.44          NaN        NaN           NaN             NaN   \n",
       "4          605.47          NaN        NaN           NaN             NaN   \n",
       "\n",
       "   Corporate Total  Home Office Unnamed: 12   Unnamed: 13     Unnamed: 14  \\\n",
       "0              NaN  First Class    Same Day  Second Class  Standard Class   \n",
       "1              NaN          NaN         NaN           NaN             NaN   \n",
       "2              NaN          NaN         NaN           NaN          91.056   \n",
       "3              NaN          NaN         NaN           NaN             NaN   \n",
       "4              NaN          NaN         NaN           NaN             NaN   \n",
       "\n",
       "   Home Office Total  \n",
       "0                NaN  \n",
       "1                NaN  \n",
       "2             91.056  \n",
       "3                NaN  \n",
       "4                NaN  "
      ]
     },
     "execution_count": 5,
     "metadata": {},
     "output_type": "execute_result"
    }
   ],
   "source": [
    "df.head()"
   ]
  },
  {
   "cell_type": "markdown",
   "metadata": {},
   "source": [
    "Row and column count"
   ]
  },
  {
   "cell_type": "code",
   "execution_count": 6,
   "metadata": {},
   "outputs": [
    {
     "data": {
      "text/plain": [
       "(825, 16)"
      ]
     },
     "execution_count": 6,
     "metadata": {},
     "output_type": "execute_result"
    }
   ],
   "source": [
    "df.shape"
   ]
  },
  {
   "cell_type": "markdown",
   "metadata": {},
   "source": [
    "# Columns with \"unnamed\" string\n",
    "Find columns with unnamed string"
   ]
  },
  {
   "cell_type": "code",
   "execution_count": null,
   "metadata": {},
   "outputs": [],
   "source": [
    "filt_contains_unnamed = df.columns.str.contains('Unnamed')"
   ]
  },
  {
   "cell_type": "markdown",
   "metadata": {},
   "source": [
    "Replace columns with string 'Unnamed'"
   ]
  },
  {
   "cell_type": "code",
   "execution_count": 7,
   "metadata": {},
   "outputs": [
    {
     "name": "stdout",
     "output_type": "stream",
     "text": [
      "Index(['Segment>>', 'Consumer', 'Same Day', 'Second Class', 'Standard Class',\n",
      "       'Consumer Total', 'Corporate', 'Same Day', 'Second Class',\n",
      "       'Standard Class', 'Corporate Total', 'Home Office', 'Same Day',\n",
      "       'Second Class', 'Standard Class', 'Home Office Total'],\n",
      "      dtype='object')\n"
     ]
    }
   ],
   "source": [
    "col_ind = 0\n",
    "\n",
    "new_cols = []\n",
    "\n",
    "for i in df.columns.str.contains('Unnamed'):\n",
    "    if i == True:\n",
    "        new_cols.append(df.iloc[0, col_ind])\n",
    "    else:\n",
    "        new_cols.append(df.columns[col_ind])\n",
    "    col_ind += 1\n",
    "\n",
    "df.columns = new_cols\n",
    "\n",
    "print(df.columns)"
   ]
  },
  {
   "cell_type": "markdown",
   "metadata": {},
   "source": [
    "# Remove special characters\n",
    "\n",
    "Remove special characters from column names"
   ]
  },
  {
   "cell_type": "code",
   "execution_count": 8,
   "metadata": {},
   "outputs": [
    {
     "name": "stdout",
     "output_type": "stream",
     "text": [
      "Index(['Segment', 'Consumer', 'Same Day', 'Second Class', 'Standard Class',\n",
      "       'Consumer Total', 'Corporate', 'Same Day', 'Second Class',\n",
      "       'Standard Class', 'Corporate Total', 'Home Office', 'Same Day',\n",
      "       'Second Class', 'Standard Class', 'Home Office Total'],\n",
      "      dtype='object')\n"
     ]
    }
   ],
   "source": [
    "df.columns = df.columns.str.replace('>', '')\n",
    "\n",
    "# df.columns = df.columns.str.replace('[>, @, #]', '')\n",
    "\n",
    "print(df.columns)"
   ]
  },
  {
   "cell_type": "code",
   "execution_count": 9,
   "metadata": {},
   "outputs": [
    {
     "data": {
      "text/plain": [
       "Segment                 Ship Mode>>\n",
       "Consumer                First Class\n",
       "Same Day                   Same Day\n",
       "Second Class           Second Class\n",
       "Standard Class       Standard Class\n",
       "Consumer Total                  NaN\n",
       "Corporate               First Class\n",
       "Same Day                   Same Day\n",
       "Second Class           Second Class\n",
       "Standard Class       Standard Class\n",
       "Corporate Total                 NaN\n",
       "Home Office             First Class\n",
       "Same Day                   Same Day\n",
       "Second Class           Second Class\n",
       "Standard Class       Standard Class\n",
       "Home Office Total               NaN\n",
       "Name: 0, dtype: object"
      ]
     },
     "execution_count": 9,
     "metadata": {},
     "output_type": "execute_result"
    }
   ],
   "source": [
    "# Some column names are located in first row\n",
    "\n",
    "df.iloc[0]"
   ]
  },
  {
   "cell_type": "code",
   "execution_count": null,
   "metadata": {},
   "outputs": [],
   "source": [
    "# Rename columns - Option 1 --------------------------------------------\n",
    "\n",
    "# column_indices = [*range(1, 5)]\n",
    "# new_names = ['Consumer First Class', 'Consumer Same Day', 'Consumer Second Class', 'Consumer Standard Class']\n",
    "# old_names = df.columns[column_indices]\n",
    "# df.rename(columns=dict(zip(old_names, new_names)), inplace=True)"
   ]
  },
  {
   "cell_type": "code",
   "execution_count": null,
   "metadata": {},
   "outputs": [],
   "source": [
    "# Rename columns - Option 2 --------------------------------------------\n",
    "\n",
    "# cols_consumer = [i for i in df.columns[1:5]]\n",
    "# num = 1\n",
    "\n",
    "# for i in cols_consumer:\n",
    "#     test = ' '.join(('Consumer', i))\n",
    "#     df.rename(columns={df.columns[num]: test}, inplace= True)\n",
    "#     print(df.columns[num])\n",
    "#     num += 1"
   ]
  },
  {
   "cell_type": "markdown",
   "metadata": {},
   "source": [
    "# Rename columns\n",
    "\n",
    "Rename columns - Option 3"
   ]
  },
  {
   "cell_type": "code",
   "execution_count": 10,
   "metadata": {},
   "outputs": [
    {
     "data": {
      "text/plain": [
       "Index(['Segment', 'Consumer First Class', 'Consumer Same Day',\n",
       "       'Consumer Second Class', 'Consumer Standard Class', 'Consumer Total',\n",
       "       'Corporate', 'Corporate Same Day', 'Corporate Second Class',\n",
       "       'Corporate Standard Class', 'Corporate Total', 'Home Office',\n",
       "       'Home Office Same Day', 'Home Office Second Class',\n",
       "       'Home Office Standard Class', 'Home Office Total'],\n",
       "      dtype='object')"
      ]
     },
     "execution_count": 10,
     "metadata": {},
     "output_type": "execute_result"
    }
   ],
   "source": [
    "df.columns = ['Segment', 'Consumer First Class', 'Consumer Same Day',\n",
    "       'Consumer Second Class', 'Consumer Standard Class', 'Consumer Total',\n",
    "       'Corporate', 'Corporate Same Day', 'Corporate Second Class',\n",
    "       'Corporate Standard Class', 'Corporate Total', 'Home Office',\n",
    "       'Home Office Same Day', 'Home Office Second Class', 'Home Office Standard Class',\n",
    "       'Home Office Total']\n",
    "\n",
    "df.columns"
   ]
  },
  {
   "cell_type": "markdown",
   "metadata": {},
   "source": [
    "# Delete first 2 rows\n",
    "\n",
    "First and second row had column names so we droped them"
   ]
  },
  {
   "cell_type": "code",
   "execution_count": 11,
   "metadata": {},
   "outputs": [],
   "source": [
    "df.drop([0, 1], inplace=True)"
   ]
  },
  {
   "cell_type": "code",
   "execution_count": 12,
   "metadata": {},
   "outputs": [
    {
     "data": {
      "text/html": [
       "<div>\n",
       "<style scoped>\n",
       "    .dataframe tbody tr th:only-of-type {\n",
       "        vertical-align: middle;\n",
       "    }\n",
       "\n",
       "    .dataframe tbody tr th {\n",
       "        vertical-align: top;\n",
       "    }\n",
       "\n",
       "    .dataframe thead th {\n",
       "        text-align: right;\n",
       "    }\n",
       "</style>\n",
       "<table border=\"1\" class=\"dataframe\">\n",
       "  <thead>\n",
       "    <tr style=\"text-align: right;\">\n",
       "      <th></th>\n",
       "      <th>Segment</th>\n",
       "      <th>Consumer First Class</th>\n",
       "      <th>Consumer Same Day</th>\n",
       "      <th>Consumer Second Class</th>\n",
       "      <th>Consumer Standard Class</th>\n",
       "      <th>Consumer Total</th>\n",
       "      <th>Corporate</th>\n",
       "      <th>Corporate Same Day</th>\n",
       "      <th>Corporate Second Class</th>\n",
       "      <th>Corporate Standard Class</th>\n",
       "      <th>Corporate Total</th>\n",
       "      <th>Home Office</th>\n",
       "      <th>Home Office Same Day</th>\n",
       "      <th>Home Office Second Class</th>\n",
       "      <th>Home Office Standard Class</th>\n",
       "      <th>Home Office Total</th>\n",
       "    </tr>\n",
       "  </thead>\n",
       "  <tbody>\n",
       "    <tr>\n",
       "      <th>2</th>\n",
       "      <td>CA-2011-100293</td>\n",
       "      <td>NaN</td>\n",
       "      <td>NaN</td>\n",
       "      <td>NaN</td>\n",
       "      <td>NaN</td>\n",
       "      <td>NaN</td>\n",
       "      <td>NaN</td>\n",
       "      <td>NaN</td>\n",
       "      <td>NaN</td>\n",
       "      <td>NaN</td>\n",
       "      <td>NaN</td>\n",
       "      <td>NaN</td>\n",
       "      <td>NaN</td>\n",
       "      <td>NaN</td>\n",
       "      <td>91.056</td>\n",
       "      <td>91.056</td>\n",
       "    </tr>\n",
       "    <tr>\n",
       "      <th>3</th>\n",
       "      <td>CA-2011-100706</td>\n",
       "      <td>NaN</td>\n",
       "      <td>NaN</td>\n",
       "      <td>129.44</td>\n",
       "      <td>NaN</td>\n",
       "      <td>129.44</td>\n",
       "      <td>NaN</td>\n",
       "      <td>NaN</td>\n",
       "      <td>NaN</td>\n",
       "      <td>NaN</td>\n",
       "      <td>NaN</td>\n",
       "      <td>NaN</td>\n",
       "      <td>NaN</td>\n",
       "      <td>NaN</td>\n",
       "      <td>NaN</td>\n",
       "      <td>NaN</td>\n",
       "    </tr>\n",
       "    <tr>\n",
       "      <th>4</th>\n",
       "      <td>CA-2011-100895</td>\n",
       "      <td>NaN</td>\n",
       "      <td>NaN</td>\n",
       "      <td>NaN</td>\n",
       "      <td>605.47</td>\n",
       "      <td>605.47</td>\n",
       "      <td>NaN</td>\n",
       "      <td>NaN</td>\n",
       "      <td>NaN</td>\n",
       "      <td>NaN</td>\n",
       "      <td>NaN</td>\n",
       "      <td>NaN</td>\n",
       "      <td>NaN</td>\n",
       "      <td>NaN</td>\n",
       "      <td>NaN</td>\n",
       "      <td>NaN</td>\n",
       "    </tr>\n",
       "    <tr>\n",
       "      <th>5</th>\n",
       "      <td>CA-2011-100916</td>\n",
       "      <td>NaN</td>\n",
       "      <td>NaN</td>\n",
       "      <td>NaN</td>\n",
       "      <td>NaN</td>\n",
       "      <td>NaN</td>\n",
       "      <td>NaN</td>\n",
       "      <td>NaN</td>\n",
       "      <td>NaN</td>\n",
       "      <td>788.86</td>\n",
       "      <td>788.86</td>\n",
       "      <td>NaN</td>\n",
       "      <td>NaN</td>\n",
       "      <td>NaN</td>\n",
       "      <td>NaN</td>\n",
       "      <td>NaN</td>\n",
       "    </tr>\n",
       "    <tr>\n",
       "      <th>6</th>\n",
       "      <td>CA-2011-101266</td>\n",
       "      <td>NaN</td>\n",
       "      <td>NaN</td>\n",
       "      <td>13.36</td>\n",
       "      <td>NaN</td>\n",
       "      <td>13.36</td>\n",
       "      <td>NaN</td>\n",
       "      <td>NaN</td>\n",
       "      <td>NaN</td>\n",
       "      <td>NaN</td>\n",
       "      <td>NaN</td>\n",
       "      <td>NaN</td>\n",
       "      <td>NaN</td>\n",
       "      <td>NaN</td>\n",
       "      <td>NaN</td>\n",
       "      <td>NaN</td>\n",
       "    </tr>\n",
       "  </tbody>\n",
       "</table>\n",
       "</div>"
      ],
      "text/plain": [
       "          Segment Consumer First Class Consumer Same Day  \\\n",
       "2  CA-2011-100293                  NaN               NaN   \n",
       "3  CA-2011-100706                  NaN               NaN   \n",
       "4  CA-2011-100895                  NaN               NaN   \n",
       "5  CA-2011-100916                  NaN               NaN   \n",
       "6  CA-2011-101266                  NaN               NaN   \n",
       "\n",
       "  Consumer Second Class Consumer Standard Class  Consumer Total Corporate  \\\n",
       "2                   NaN                     NaN             NaN       NaN   \n",
       "3                129.44                     NaN          129.44       NaN   \n",
       "4                   NaN                  605.47          605.47       NaN   \n",
       "5                   NaN                     NaN             NaN       NaN   \n",
       "6                 13.36                     NaN           13.36       NaN   \n",
       "\n",
       "  Corporate Same Day Corporate Second Class Corporate Standard Class  \\\n",
       "2                NaN                    NaN                      NaN   \n",
       "3                NaN                    NaN                      NaN   \n",
       "4                NaN                    NaN                      NaN   \n",
       "5                NaN                    NaN                   788.86   \n",
       "6                NaN                    NaN                      NaN   \n",
       "\n",
       "   Corporate Total Home Office Home Office Same Day Home Office Second Class  \\\n",
       "2              NaN         NaN                  NaN                      NaN   \n",
       "3              NaN         NaN                  NaN                      NaN   \n",
       "4              NaN         NaN                  NaN                      NaN   \n",
       "5           788.86         NaN                  NaN                      NaN   \n",
       "6              NaN         NaN                  NaN                      NaN   \n",
       "\n",
       "  Home Office Standard Class  Home Office Total  \n",
       "2                     91.056             91.056  \n",
       "3                        NaN                NaN  \n",
       "4                        NaN                NaN  \n",
       "5                        NaN                NaN  \n",
       "6                        NaN                NaN  "
      ]
     },
     "execution_count": 12,
     "metadata": {},
     "output_type": "execute_result"
    }
   ],
   "source": [
    "df.head()"
   ]
  },
  {
   "cell_type": "markdown",
   "metadata": {},
   "source": [
    "# Rearrange columns"
   ]
  },
  {
   "cell_type": "code",
   "execution_count": 13,
   "metadata": {},
   "outputs": [],
   "source": [
    "# Add multiple columns\n",
    "\n",
    "# df[['new11', 'new22', 'new33']] = pd.DataFrame([[np.nan, np.nan, np.nan]])"
   ]
  },
  {
   "cell_type": "code",
   "execution_count": 272,
   "metadata": {},
   "outputs": [],
   "source": [
    "# Drop multiple columns\n",
    "\n",
    "# df.drop(['new11', 'new22', 'new33'], axis=1, inplace=True)"
   ]
  },
  {
   "cell_type": "markdown",
   "metadata": {},
   "source": [
    "\"Segment\" column had the wrong name. This column is the \"Order ID\" column"
   ]
  },
  {
   "cell_type": "code",
   "execution_count": 13,
   "metadata": {},
   "outputs": [],
   "source": [
    "df.rename(columns={'Segment': 'Order ID'}, inplace=True)"
   ]
  },
  {
   "cell_type": "markdown",
   "metadata": {},
   "source": [
    "# Insert missing columns\n",
    "\n",
    "Insert \"Segment\" column in dataframe"
   ]
  },
  {
   "cell_type": "code",
   "execution_count": 15,
   "metadata": {},
   "outputs": [],
   "source": [
    "df.insert(0, 'Segment', np.nan)"
   ]
  },
  {
   "cell_type": "markdown",
   "metadata": {},
   "source": [
    "Insert \"Ship Mode\" column in dataframe"
   ]
  },
  {
   "cell_type": "code",
   "execution_count": 17,
   "metadata": {},
   "outputs": [],
   "source": [
    "df.insert(0, 'Ship Mode', np.nan)"
   ]
  },
  {
   "cell_type": "markdown",
   "metadata": {},
   "source": [
    "I made a mistake and inserted the Ship Mode before the Segment column\n",
    "Reorder a single column - Insert and then delete the same column - Values stay the same"
   ]
  },
  {
   "cell_type": "code",
   "execution_count": 19,
   "metadata": {},
   "outputs": [],
   "source": [
    "df.insert(0, 'Segment', df.pop('Segment'))"
   ]
  },
  {
   "cell_type": "markdown",
   "metadata": {},
   "source": [
    "Added the \"Sales\" column as it was also missing"
   ]
  },
  {
   "cell_type": "code",
   "execution_count": 32,
   "metadata": {},
   "outputs": [],
   "source": [
    "df.insert(3, 'Sales', np.nan)"
   ]
  },
  {
   "cell_type": "code",
   "execution_count": 33,
   "metadata": {},
   "outputs": [
    {
     "data": {
      "text/html": [
       "<div>\n",
       "<style scoped>\n",
       "    .dataframe tbody tr th:only-of-type {\n",
       "        vertical-align: middle;\n",
       "    }\n",
       "\n",
       "    .dataframe tbody tr th {\n",
       "        vertical-align: top;\n",
       "    }\n",
       "\n",
       "    .dataframe thead th {\n",
       "        text-align: right;\n",
       "    }\n",
       "</style>\n",
       "<table border=\"1\" class=\"dataframe\">\n",
       "  <thead>\n",
       "    <tr style=\"text-align: right;\">\n",
       "      <th></th>\n",
       "      <th>Segment</th>\n",
       "      <th>Ship Mode</th>\n",
       "      <th>Order ID</th>\n",
       "      <th>Sales</th>\n",
       "      <th>Consumer First Class</th>\n",
       "      <th>Consumer Same Day</th>\n",
       "      <th>Consumer Second Class</th>\n",
       "      <th>Consumer Standard Class</th>\n",
       "      <th>Consumer Total</th>\n",
       "      <th>Corporate</th>\n",
       "      <th>Corporate Same Day</th>\n",
       "      <th>Corporate Second Class</th>\n",
       "      <th>Corporate Standard Class</th>\n",
       "      <th>Corporate Total</th>\n",
       "      <th>Home Office</th>\n",
       "      <th>Home Office Same Day</th>\n",
       "      <th>Home Office Second Class</th>\n",
       "      <th>Home Office Standard Class</th>\n",
       "      <th>Home Office Total</th>\n",
       "    </tr>\n",
       "  </thead>\n",
       "  <tbody>\n",
       "    <tr>\n",
       "      <th>2</th>\n",
       "      <td>NaN</td>\n",
       "      <td>NaN</td>\n",
       "      <td>CA-2011-100293</td>\n",
       "      <td>NaN</td>\n",
       "      <td>NaN</td>\n",
       "      <td>NaN</td>\n",
       "      <td>NaN</td>\n",
       "      <td>NaN</td>\n",
       "      <td>NaN</td>\n",
       "      <td>NaN</td>\n",
       "      <td>NaN</td>\n",
       "      <td>NaN</td>\n",
       "      <td>NaN</td>\n",
       "      <td>NaN</td>\n",
       "      <td>NaN</td>\n",
       "      <td>NaN</td>\n",
       "      <td>NaN</td>\n",
       "      <td>91.056</td>\n",
       "      <td>91.056</td>\n",
       "    </tr>\n",
       "    <tr>\n",
       "      <th>3</th>\n",
       "      <td>NaN</td>\n",
       "      <td>NaN</td>\n",
       "      <td>CA-2011-100706</td>\n",
       "      <td>NaN</td>\n",
       "      <td>NaN</td>\n",
       "      <td>NaN</td>\n",
       "      <td>129.44</td>\n",
       "      <td>NaN</td>\n",
       "      <td>129.44</td>\n",
       "      <td>NaN</td>\n",
       "      <td>NaN</td>\n",
       "      <td>NaN</td>\n",
       "      <td>NaN</td>\n",
       "      <td>NaN</td>\n",
       "      <td>NaN</td>\n",
       "      <td>NaN</td>\n",
       "      <td>NaN</td>\n",
       "      <td>NaN</td>\n",
       "      <td>NaN</td>\n",
       "    </tr>\n",
       "    <tr>\n",
       "      <th>4</th>\n",
       "      <td>NaN</td>\n",
       "      <td>NaN</td>\n",
       "      <td>CA-2011-100895</td>\n",
       "      <td>NaN</td>\n",
       "      <td>NaN</td>\n",
       "      <td>NaN</td>\n",
       "      <td>NaN</td>\n",
       "      <td>605.47</td>\n",
       "      <td>605.47</td>\n",
       "      <td>NaN</td>\n",
       "      <td>NaN</td>\n",
       "      <td>NaN</td>\n",
       "      <td>NaN</td>\n",
       "      <td>NaN</td>\n",
       "      <td>NaN</td>\n",
       "      <td>NaN</td>\n",
       "      <td>NaN</td>\n",
       "      <td>NaN</td>\n",
       "      <td>NaN</td>\n",
       "    </tr>\n",
       "    <tr>\n",
       "      <th>5</th>\n",
       "      <td>NaN</td>\n",
       "      <td>NaN</td>\n",
       "      <td>CA-2011-100916</td>\n",
       "      <td>NaN</td>\n",
       "      <td>NaN</td>\n",
       "      <td>NaN</td>\n",
       "      <td>NaN</td>\n",
       "      <td>NaN</td>\n",
       "      <td>NaN</td>\n",
       "      <td>NaN</td>\n",
       "      <td>NaN</td>\n",
       "      <td>NaN</td>\n",
       "      <td>788.86</td>\n",
       "      <td>788.86</td>\n",
       "      <td>NaN</td>\n",
       "      <td>NaN</td>\n",
       "      <td>NaN</td>\n",
       "      <td>NaN</td>\n",
       "      <td>NaN</td>\n",
       "    </tr>\n",
       "    <tr>\n",
       "      <th>6</th>\n",
       "      <td>NaN</td>\n",
       "      <td>NaN</td>\n",
       "      <td>CA-2011-101266</td>\n",
       "      <td>NaN</td>\n",
       "      <td>NaN</td>\n",
       "      <td>NaN</td>\n",
       "      <td>13.36</td>\n",
       "      <td>NaN</td>\n",
       "      <td>13.36</td>\n",
       "      <td>NaN</td>\n",
       "      <td>NaN</td>\n",
       "      <td>NaN</td>\n",
       "      <td>NaN</td>\n",
       "      <td>NaN</td>\n",
       "      <td>NaN</td>\n",
       "      <td>NaN</td>\n",
       "      <td>NaN</td>\n",
       "      <td>NaN</td>\n",
       "      <td>NaN</td>\n",
       "    </tr>\n",
       "  </tbody>\n",
       "</table>\n",
       "</div>"
      ],
      "text/plain": [
       "   Segment  Ship Mode        Order ID  Sales Consumer First Class  \\\n",
       "2      NaN        NaN  CA-2011-100293    NaN                  NaN   \n",
       "3      NaN        NaN  CA-2011-100706    NaN                  NaN   \n",
       "4      NaN        NaN  CA-2011-100895    NaN                  NaN   \n",
       "5      NaN        NaN  CA-2011-100916    NaN                  NaN   \n",
       "6      NaN        NaN  CA-2011-101266    NaN                  NaN   \n",
       "\n",
       "  Consumer Same Day  Consumer Second Class Consumer Standard Class  \\\n",
       "2               NaN                    NaN                     NaN   \n",
       "3               NaN                 129.44                     NaN   \n",
       "4               NaN                    NaN                  605.47   \n",
       "5               NaN                    NaN                     NaN   \n",
       "6               NaN                  13.36                     NaN   \n",
       "\n",
       "   Consumer Total Corporate Corporate Same Day Corporate Second Class  \\\n",
       "2             NaN       NaN                NaN                    NaN   \n",
       "3          129.44       NaN                NaN                    NaN   \n",
       "4          605.47       NaN                NaN                    NaN   \n",
       "5             NaN       NaN                NaN                    NaN   \n",
       "6           13.36       NaN                NaN                    NaN   \n",
       "\n",
       "  Corporate Standard Class  Corporate Total Home Office Home Office Same Day  \\\n",
       "2                      NaN              NaN         NaN                  NaN   \n",
       "3                      NaN              NaN         NaN                  NaN   \n",
       "4                      NaN              NaN         NaN                  NaN   \n",
       "5                   788.86           788.86         NaN                  NaN   \n",
       "6                      NaN              NaN         NaN                  NaN   \n",
       "\n",
       "  Home Office Second Class Home Office Standard Class  Home Office Total  \n",
       "2                      NaN                     91.056             91.056  \n",
       "3                      NaN                        NaN                NaN  \n",
       "4                      NaN                        NaN                NaN  \n",
       "5                      NaN                        NaN                NaN  \n",
       "6                      NaN                        NaN                NaN  "
      ]
     },
     "execution_count": 33,
     "metadata": {},
     "output_type": "execute_result"
    }
   ],
   "source": [
    "df.head()"
   ]
  },
  {
   "cell_type": "markdown",
   "metadata": {},
   "source": [
    "# Review dataframe's data\n",
    "\n",
    "First columns to loop through"
   ]
  },
  {
   "cell_type": "code",
   "execution_count": 23,
   "metadata": {},
   "outputs": [
    {
     "data": {
      "text/html": [
       "<div>\n",
       "<style scoped>\n",
       "    .dataframe tbody tr th:only-of-type {\n",
       "        vertical-align: middle;\n",
       "    }\n",
       "\n",
       "    .dataframe tbody tr th {\n",
       "        vertical-align: top;\n",
       "    }\n",
       "\n",
       "    .dataframe thead th {\n",
       "        text-align: right;\n",
       "    }\n",
       "</style>\n",
       "<table border=\"1\" class=\"dataframe\">\n",
       "  <thead>\n",
       "    <tr style=\"text-align: right;\">\n",
       "      <th></th>\n",
       "      <th>Segment</th>\n",
       "      <th>Ship Mode</th>\n",
       "      <th>Order ID</th>\n",
       "      <th>Consumer First Class</th>\n",
       "      <th>Consumer Same Day</th>\n",
       "      <th>Consumer Second Class</th>\n",
       "      <th>Consumer Standard Class</th>\n",
       "      <th>Consumer Total</th>\n",
       "    </tr>\n",
       "  </thead>\n",
       "  <tbody>\n",
       "    <tr>\n",
       "      <th>2</th>\n",
       "      <td>NaN</td>\n",
       "      <td>NaN</td>\n",
       "      <td>CA-2011-100293</td>\n",
       "      <td>NaN</td>\n",
       "      <td>NaN</td>\n",
       "      <td>NaN</td>\n",
       "      <td>NaN</td>\n",
       "      <td>NaN</td>\n",
       "    </tr>\n",
       "    <tr>\n",
       "      <th>3</th>\n",
       "      <td>NaN</td>\n",
       "      <td>NaN</td>\n",
       "      <td>CA-2011-100706</td>\n",
       "      <td>NaN</td>\n",
       "      <td>NaN</td>\n",
       "      <td>129.44</td>\n",
       "      <td>NaN</td>\n",
       "      <td>129.440</td>\n",
       "    </tr>\n",
       "    <tr>\n",
       "      <th>4</th>\n",
       "      <td>NaN</td>\n",
       "      <td>NaN</td>\n",
       "      <td>CA-2011-100895</td>\n",
       "      <td>NaN</td>\n",
       "      <td>NaN</td>\n",
       "      <td>NaN</td>\n",
       "      <td>605.47</td>\n",
       "      <td>605.470</td>\n",
       "    </tr>\n",
       "    <tr>\n",
       "      <th>5</th>\n",
       "      <td>NaN</td>\n",
       "      <td>NaN</td>\n",
       "      <td>CA-2011-100916</td>\n",
       "      <td>NaN</td>\n",
       "      <td>NaN</td>\n",
       "      <td>NaN</td>\n",
       "      <td>NaN</td>\n",
       "      <td>NaN</td>\n",
       "    </tr>\n",
       "    <tr>\n",
       "      <th>6</th>\n",
       "      <td>NaN</td>\n",
       "      <td>NaN</td>\n",
       "      <td>CA-2011-101266</td>\n",
       "      <td>NaN</td>\n",
       "      <td>NaN</td>\n",
       "      <td>13.36</td>\n",
       "      <td>NaN</td>\n",
       "      <td>13.360</td>\n",
       "    </tr>\n",
       "    <tr>\n",
       "      <th>...</th>\n",
       "      <td>...</td>\n",
       "      <td>...</td>\n",
       "      <td>...</td>\n",
       "      <td>...</td>\n",
       "      <td>...</td>\n",
       "      <td>...</td>\n",
       "      <td>...</td>\n",
       "      <td>...</td>\n",
       "    </tr>\n",
       "    <tr>\n",
       "      <th>820</th>\n",
       "      <td>NaN</td>\n",
       "      <td>NaN</td>\n",
       "      <td>US-2014-166611</td>\n",
       "      <td>NaN</td>\n",
       "      <td>NaN</td>\n",
       "      <td>NaN</td>\n",
       "      <td>NaN</td>\n",
       "      <td>NaN</td>\n",
       "    </tr>\n",
       "    <tr>\n",
       "      <th>821</th>\n",
       "      <td>NaN</td>\n",
       "      <td>NaN</td>\n",
       "      <td>US-2014-167920</td>\n",
       "      <td>NaN</td>\n",
       "      <td>NaN</td>\n",
       "      <td>1827.51</td>\n",
       "      <td>NaN</td>\n",
       "      <td>1827.510</td>\n",
       "    </tr>\n",
       "    <tr>\n",
       "      <th>822</th>\n",
       "      <td>NaN</td>\n",
       "      <td>NaN</td>\n",
       "      <td>US-2014-168116</td>\n",
       "      <td>NaN</td>\n",
       "      <td>NaN</td>\n",
       "      <td>NaN</td>\n",
       "      <td>NaN</td>\n",
       "      <td>NaN</td>\n",
       "    </tr>\n",
       "    <tr>\n",
       "      <th>823</th>\n",
       "      <td>NaN</td>\n",
       "      <td>NaN</td>\n",
       "      <td>US-2014-168690</td>\n",
       "      <td>NaN</td>\n",
       "      <td>NaN</td>\n",
       "      <td>NaN</td>\n",
       "      <td>2.808</td>\n",
       "      <td>2.808</td>\n",
       "    </tr>\n",
       "    <tr>\n",
       "      <th>824</th>\n",
       "      <td>NaN</td>\n",
       "      <td>NaN</td>\n",
       "      <td>Grand Total</td>\n",
       "      <td>20802.173</td>\n",
       "      <td>8132.409</td>\n",
       "      <td>49724.2545</td>\n",
       "      <td>116922.1345</td>\n",
       "      <td>195580.971</td>\n",
       "    </tr>\n",
       "  </tbody>\n",
       "</table>\n",
       "<p>823 rows × 8 columns</p>\n",
       "</div>"
      ],
      "text/plain": [
       "     Segment  Ship Mode        Order ID Consumer First Class  \\\n",
       "2        NaN        NaN  CA-2011-100293                  NaN   \n",
       "3        NaN        NaN  CA-2011-100706                  NaN   \n",
       "4        NaN        NaN  CA-2011-100895                  NaN   \n",
       "5        NaN        NaN  CA-2011-100916                  NaN   \n",
       "6        NaN        NaN  CA-2011-101266                  NaN   \n",
       "..       ...        ...             ...                  ...   \n",
       "820      NaN        NaN  US-2014-166611                  NaN   \n",
       "821      NaN        NaN  US-2014-167920                  NaN   \n",
       "822      NaN        NaN  US-2014-168116                  NaN   \n",
       "823      NaN        NaN  US-2014-168690                  NaN   \n",
       "824      NaN        NaN     Grand Total            20802.173   \n",
       "\n",
       "    Consumer Same Day Consumer Second Class Consumer Standard Class  \\\n",
       "2                 NaN                   NaN                     NaN   \n",
       "3                 NaN                129.44                     NaN   \n",
       "4                 NaN                   NaN                  605.47   \n",
       "5                 NaN                   NaN                     NaN   \n",
       "6                 NaN                 13.36                     NaN   \n",
       "..                ...                   ...                     ...   \n",
       "820               NaN                   NaN                     NaN   \n",
       "821               NaN               1827.51                     NaN   \n",
       "822               NaN                   NaN                     NaN   \n",
       "823               NaN                   NaN                   2.808   \n",
       "824          8132.409            49724.2545             116922.1345   \n",
       "\n",
       "     Consumer Total  \n",
       "2               NaN  \n",
       "3           129.440  \n",
       "4           605.470  \n",
       "5               NaN  \n",
       "6            13.360  \n",
       "..              ...  \n",
       "820             NaN  \n",
       "821        1827.510  \n",
       "822             NaN  \n",
       "823           2.808  \n",
       "824      195580.971  \n",
       "\n",
       "[823 rows x 8 columns]"
      ]
     },
     "execution_count": 23,
     "metadata": {},
     "output_type": "execute_result"
    }
   ],
   "source": [
    "df.iloc[:, 0:8]"
   ]
  },
  {
   "cell_type": "markdown",
   "metadata": {},
   "source": [
    "Change data type of \"Consumer Second Class\" column to numeric"
   ]
  },
  {
   "cell_type": "code",
   "execution_count": 24,
   "metadata": {},
   "outputs": [],
   "source": [
    "df['Consumer Second Class'] = pd.to_numeric(df['Consumer Second Class'])"
   ]
  },
  {
   "cell_type": "markdown",
   "metadata": {},
   "source": [
    "Filter float values in column"
   ]
  },
  {
   "cell_type": "code",
   "execution_count": 25,
   "metadata": {},
   "outputs": [
    {
     "data": {
      "text/plain": [
       "2             NaN\n",
       "3        129.4400\n",
       "4             NaN\n",
       "5             NaN\n",
       "6         13.3600\n",
       "          ...    \n",
       "820           NaN\n",
       "821     1827.5100\n",
       "822           NaN\n",
       "823           NaN\n",
       "824    49724.2545\n",
       "Name: Consumer Second Class, Length: 823, dtype: float64"
      ]
     },
     "execution_count": 25,
     "metadata": {},
     "output_type": "execute_result"
    }
   ],
   "source": [
    "filt = df['Consumer Second Class'].apply(type) == float\n",
    "\n",
    "df.loc[filt]['Consumer Second Class']"
   ]
  },
  {
   "cell_type": "markdown",
   "metadata": {},
   "source": [
    "Apparently all of the values are Float, including nan values.\n",
    "So I need to use a different filter.\n",
    "Next code shows the different data types in the column."
   ]
  },
  {
   "cell_type": "code",
   "execution_count": 27,
   "metadata": {},
   "outputs": [
    {
     "data": {
      "text/plain": [
       "2      <class 'float'>\n",
       "3      <class 'float'>\n",
       "4      <class 'float'>\n",
       "5      <class 'float'>\n",
       "6      <class 'float'>\n",
       "            ...       \n",
       "820    <class 'float'>\n",
       "821    <class 'float'>\n",
       "822    <class 'float'>\n",
       "823    <class 'float'>\n",
       "824    <class 'float'>\n",
       "Name: Consumer Second Class, Length: 823, dtype: object"
      ]
     },
     "execution_count": 27,
     "metadata": {},
     "output_type": "execute_result"
    }
   ],
   "source": [
    "df['Consumer Second Class'].apply(type)"
   ]
  },
  {
   "cell_type": "markdown",
   "metadata": {},
   "source": [
    "# Loop through rows"
   ]
  },
  {
   "cell_type": "markdown",
   "metadata": {},
   "source": [
    "If any of the columns contain either \"Class\" or \"Day\" then it contains the sales amount we need to classify\n",
    "\n",
    "Next code gets all of those columns with any of these elements on their name ['Class', 'Day']"
   ]
  },
  {
   "cell_type": "code",
   "execution_count": 65,
   "metadata": {},
   "outputs": [
    {
     "name": "stdout",
     "output_type": "stream",
     "text": [
      "['Consumer First Class', 'Consumer Same Day', 'Consumer Second Class', 'Consumer Standard Class', 'Corporate Same Day', 'Corporate Second Class', 'Corporate Standard Class', 'Home Office Same Day', 'Home Office Second Class', 'Home Office Standard Class']\n"
     ]
    }
   ],
   "source": [
    "look_for = ['Class', 'Day']\n",
    "columns_with_data = []\n",
    "\n",
    "for i in df.columns[4:-1]:\n",
    "    for f in look_for:\n",
    "        if f in i:\n",
    "            columns_with_data.append(i)\n",
    "\n",
    "print(columns_with_data)"
   ]
  },
  {
   "cell_type": "markdown",
   "metadata": {},
   "source": [
    "We got the columns, now we need to split the column names to get the type of \"Customer\" and the \"Ship Mode\"\n",
    "First element is Customer, second one is Ship Mode\n",
    "We had to do a special code for the \"Home Office\" columns because it is composed of two words rather than one (Consumer vs Home Office)"
   ]
  },
  {
   "cell_type": "code",
   "execution_count": 90,
   "metadata": {},
   "outputs": [
    {
     "name": "stdout",
     "output_type": "stream",
     "text": [
      "[['Consumer', 'First Class'], ['Consumer', 'Same Day'], ['Consumer', 'Second Class'], ['Consumer', 'Standard Class'], ['Corporate', 'Same Day'], ['Corporate', 'Second Class'], ['Corporate', 'Standard Class'], ['Home Office', 'Same Day'], ['Home Office', 'Second Class'], ['Home Office', 'Standard Class']]\n"
     ]
    }
   ],
   "source": [
    "columns_split = []\n",
    "\n",
    "for i in columns_with_data:\n",
    "    if 'Home Office' in i:\n",
    "        n=2\n",
    "        groups= i.split(' ')\n",
    "        split_office = [' '.join(groups[:n]), ' '.join(groups[n:])]\n",
    "        columns_split.append(split_office)\n",
    "    else:\n",
    "        columns_split.append(i.split(' ', maxsplit=1))\n",
    "\n",
    "print(columns_split)"
   ]
  },
  {
   "cell_type": "markdown",
   "metadata": {},
   "source": [
    "Now we got the column names and we have splitted all of them to get the Customer type and Ship Mode\n",
    "Now we are iterating through each one of these columns and their corresponding rows to assign values to the columns\n",
    "The code looks for non \"nan\" values"
   ]
  },
  {
   "cell_type": "code",
   "execution_count": 122,
   "metadata": {},
   "outputs": [],
   "source": [
    "n = 0\n",
    "\n",
    "for i in columns_with_data:\n",
    "    for f in df.index:\n",
    "        if pd.isna(df.loc[f, i]) == False:\n",
    "            df.loc[[f], ['Segment']] = columns_split[n][0]\n",
    "            df.loc[[f], ['Ship Mode']] = columns_split[n][1]\n",
    "            df.loc[[f], ['Sales']] = df.loc[f, i]\n",
    "            # print(df.loc[f, i], f)\n",
    "    n = n+1\n",
    "\n"
   ]
  },
  {
   "cell_type": "markdown",
   "metadata": {},
   "source": [
    "In the next code we can see that all the non 'nan' values in the column \"Consumer Second Class\"\n",
    "are correctly classified in Segment, Ship Mode and Sales"
   ]
  },
  {
   "cell_type": "code",
   "execution_count": 123,
   "metadata": {},
   "outputs": [
    {
     "data": {
      "text/html": [
       "<div>\n",
       "<style scoped>\n",
       "    .dataframe tbody tr th:only-of-type {\n",
       "        vertical-align: middle;\n",
       "    }\n",
       "\n",
       "    .dataframe tbody tr th {\n",
       "        vertical-align: top;\n",
       "    }\n",
       "\n",
       "    .dataframe thead th {\n",
       "        text-align: right;\n",
       "    }\n",
       "</style>\n",
       "<table border=\"1\" class=\"dataframe\">\n",
       "  <thead>\n",
       "    <tr style=\"text-align: right;\">\n",
       "      <th></th>\n",
       "      <th>Segment</th>\n",
       "      <th>Ship Mode</th>\n",
       "      <th>Sales</th>\n",
       "      <th>Consumer Second Class</th>\n",
       "    </tr>\n",
       "  </thead>\n",
       "  <tbody>\n",
       "    <tr>\n",
       "      <th>2</th>\n",
       "      <td>Home Office</td>\n",
       "      <td>Standard Class</td>\n",
       "      <td>91.0560</td>\n",
       "      <td>NaN</td>\n",
       "    </tr>\n",
       "    <tr>\n",
       "      <th>3</th>\n",
       "      <td>Consumer</td>\n",
       "      <td>Second Class</td>\n",
       "      <td>129.4400</td>\n",
       "      <td>129.4400</td>\n",
       "    </tr>\n",
       "    <tr>\n",
       "      <th>4</th>\n",
       "      <td>Consumer</td>\n",
       "      <td>Standard Class</td>\n",
       "      <td>605.4700</td>\n",
       "      <td>NaN</td>\n",
       "    </tr>\n",
       "    <tr>\n",
       "      <th>5</th>\n",
       "      <td>Corporate</td>\n",
       "      <td>Standard Class</td>\n",
       "      <td>788.8600</td>\n",
       "      <td>NaN</td>\n",
       "    </tr>\n",
       "    <tr>\n",
       "      <th>6</th>\n",
       "      <td>Consumer</td>\n",
       "      <td>Second Class</td>\n",
       "      <td>13.3600</td>\n",
       "      <td>13.3600</td>\n",
       "    </tr>\n",
       "    <tr>\n",
       "      <th>...</th>\n",
       "      <td>...</td>\n",
       "      <td>...</td>\n",
       "      <td>...</td>\n",
       "      <td>...</td>\n",
       "    </tr>\n",
       "    <tr>\n",
       "      <th>820</th>\n",
       "      <td>Corporate</td>\n",
       "      <td>Standard Class</td>\n",
       "      <td>68.7420</td>\n",
       "      <td>NaN</td>\n",
       "    </tr>\n",
       "    <tr>\n",
       "      <th>821</th>\n",
       "      <td>Consumer</td>\n",
       "      <td>Second Class</td>\n",
       "      <td>1827.5100</td>\n",
       "      <td>1827.5100</td>\n",
       "    </tr>\n",
       "    <tr>\n",
       "      <th>822</th>\n",
       "      <td>Corporate</td>\n",
       "      <td>Same Day</td>\n",
       "      <td>8167.4200</td>\n",
       "      <td>NaN</td>\n",
       "    </tr>\n",
       "    <tr>\n",
       "      <th>823</th>\n",
       "      <td>Consumer</td>\n",
       "      <td>Standard Class</td>\n",
       "      <td>2.8080</td>\n",
       "      <td>NaN</td>\n",
       "    </tr>\n",
       "    <tr>\n",
       "      <th>824</th>\n",
       "      <td>Home Office</td>\n",
       "      <td>Standard Class</td>\n",
       "      <td>54748.6325</td>\n",
       "      <td>49724.2545</td>\n",
       "    </tr>\n",
       "  </tbody>\n",
       "</table>\n",
       "<p>771 rows × 4 columns</p>\n",
       "</div>"
      ],
      "text/plain": [
       "         Segment       Ship Mode       Sales  Consumer Second Class\n",
       "2    Home Office  Standard Class     91.0560                    NaN\n",
       "3       Consumer    Second Class    129.4400               129.4400\n",
       "4       Consumer  Standard Class    605.4700                    NaN\n",
       "5      Corporate  Standard Class    788.8600                    NaN\n",
       "6       Consumer    Second Class     13.3600                13.3600\n",
       "..           ...             ...         ...                    ...\n",
       "820    Corporate  Standard Class     68.7420                    NaN\n",
       "821     Consumer    Second Class   1827.5100              1827.5100\n",
       "822    Corporate        Same Day   8167.4200                    NaN\n",
       "823     Consumer  Standard Class      2.8080                    NaN\n",
       "824  Home Office  Standard Class  54748.6325             49724.2545\n",
       "\n",
       "[771 rows x 4 columns]"
      ]
     },
     "execution_count": 123,
     "metadata": {},
     "output_type": "execute_result"
    }
   ],
   "source": [
    "filt = pd.isna(df['Segment']) == False\n",
    "\n",
    "df[['Segment', 'Ship Mode', 'Sales', 'Consumer Second Class']].loc[filt]"
   ]
  },
  {
   "cell_type": "code",
   "execution_count": 136,
   "metadata": {},
   "outputs": [
    {
     "data": {
      "text/html": [
       "<div>\n",
       "<style scoped>\n",
       "    .dataframe tbody tr th:only-of-type {\n",
       "        vertical-align: middle;\n",
       "    }\n",
       "\n",
       "    .dataframe tbody tr th {\n",
       "        vertical-align: top;\n",
       "    }\n",
       "\n",
       "    .dataframe thead th {\n",
       "        text-align: right;\n",
       "    }\n",
       "</style>\n",
       "<table border=\"1\" class=\"dataframe\">\n",
       "  <thead>\n",
       "    <tr style=\"text-align: right;\">\n",
       "      <th></th>\n",
       "      <th>Segment</th>\n",
       "      <th>Ship Mode</th>\n",
       "      <th>Order ID</th>\n",
       "      <th>Sales</th>\n",
       "      <th>Consumer First Class</th>\n",
       "      <th>Consumer Same Day</th>\n",
       "      <th>Consumer Second Class</th>\n",
       "      <th>Consumer Standard Class</th>\n",
       "      <th>Consumer Total</th>\n",
       "      <th>Corporate</th>\n",
       "      <th>Corporate Same Day</th>\n",
       "      <th>Corporate Second Class</th>\n",
       "      <th>Corporate Standard Class</th>\n",
       "      <th>Corporate Total</th>\n",
       "      <th>Home Office</th>\n",
       "      <th>Home Office Same Day</th>\n",
       "      <th>Home Office Second Class</th>\n",
       "      <th>Home Office Standard Class</th>\n",
       "      <th>Home Office Total</th>\n",
       "    </tr>\n",
       "  </thead>\n",
       "  <tbody>\n",
       "    <tr>\n",
       "      <th>2</th>\n",
       "      <td>Home Office</td>\n",
       "      <td>Standard Class</td>\n",
       "      <td>CA-2011-100293</td>\n",
       "      <td>91.056</td>\n",
       "      <td>NaN</td>\n",
       "      <td>NaN</td>\n",
       "      <td>NaN</td>\n",
       "      <td>NaN</td>\n",
       "      <td>NaN</td>\n",
       "      <td>NaN</td>\n",
       "      <td>NaN</td>\n",
       "      <td>NaN</td>\n",
       "      <td>NaN</td>\n",
       "      <td>NaN</td>\n",
       "      <td>NaN</td>\n",
       "      <td>NaN</td>\n",
       "      <td>NaN</td>\n",
       "      <td>91.056</td>\n",
       "      <td>91.056</td>\n",
       "    </tr>\n",
       "    <tr>\n",
       "      <th>3</th>\n",
       "      <td>Consumer</td>\n",
       "      <td>Second Class</td>\n",
       "      <td>CA-2011-100706</td>\n",
       "      <td>129.440</td>\n",
       "      <td>NaN</td>\n",
       "      <td>NaN</td>\n",
       "      <td>129.44</td>\n",
       "      <td>NaN</td>\n",
       "      <td>129.44</td>\n",
       "      <td>NaN</td>\n",
       "      <td>NaN</td>\n",
       "      <td>NaN</td>\n",
       "      <td>NaN</td>\n",
       "      <td>NaN</td>\n",
       "      <td>NaN</td>\n",
       "      <td>NaN</td>\n",
       "      <td>NaN</td>\n",
       "      <td>NaN</td>\n",
       "      <td>NaN</td>\n",
       "    </tr>\n",
       "    <tr>\n",
       "      <th>4</th>\n",
       "      <td>Consumer</td>\n",
       "      <td>Standard Class</td>\n",
       "      <td>CA-2011-100895</td>\n",
       "      <td>605.470</td>\n",
       "      <td>NaN</td>\n",
       "      <td>NaN</td>\n",
       "      <td>NaN</td>\n",
       "      <td>605.47</td>\n",
       "      <td>605.47</td>\n",
       "      <td>NaN</td>\n",
       "      <td>NaN</td>\n",
       "      <td>NaN</td>\n",
       "      <td>NaN</td>\n",
       "      <td>NaN</td>\n",
       "      <td>NaN</td>\n",
       "      <td>NaN</td>\n",
       "      <td>NaN</td>\n",
       "      <td>NaN</td>\n",
       "      <td>NaN</td>\n",
       "    </tr>\n",
       "    <tr>\n",
       "      <th>5</th>\n",
       "      <td>Corporate</td>\n",
       "      <td>Standard Class</td>\n",
       "      <td>CA-2011-100916</td>\n",
       "      <td>788.860</td>\n",
       "      <td>NaN</td>\n",
       "      <td>NaN</td>\n",
       "      <td>NaN</td>\n",
       "      <td>NaN</td>\n",
       "      <td>NaN</td>\n",
       "      <td>NaN</td>\n",
       "      <td>NaN</td>\n",
       "      <td>NaN</td>\n",
       "      <td>788.86</td>\n",
       "      <td>788.86</td>\n",
       "      <td>NaN</td>\n",
       "      <td>NaN</td>\n",
       "      <td>NaN</td>\n",
       "      <td>NaN</td>\n",
       "      <td>NaN</td>\n",
       "    </tr>\n",
       "    <tr>\n",
       "      <th>6</th>\n",
       "      <td>Consumer</td>\n",
       "      <td>Second Class</td>\n",
       "      <td>CA-2011-101266</td>\n",
       "      <td>13.360</td>\n",
       "      <td>NaN</td>\n",
       "      <td>NaN</td>\n",
       "      <td>13.36</td>\n",
       "      <td>NaN</td>\n",
       "      <td>13.36</td>\n",
       "      <td>NaN</td>\n",
       "      <td>NaN</td>\n",
       "      <td>NaN</td>\n",
       "      <td>NaN</td>\n",
       "      <td>NaN</td>\n",
       "      <td>NaN</td>\n",
       "      <td>NaN</td>\n",
       "      <td>NaN</td>\n",
       "      <td>NaN</td>\n",
       "      <td>NaN</td>\n",
       "    </tr>\n",
       "  </tbody>\n",
       "</table>\n",
       "</div>"
      ],
      "text/plain": [
       "       Segment       Ship Mode        Order ID    Sales Consumer First Class  \\\n",
       "2  Home Office  Standard Class  CA-2011-100293   91.056                  NaN   \n",
       "3     Consumer    Second Class  CA-2011-100706  129.440                  NaN   \n",
       "4     Consumer  Standard Class  CA-2011-100895  605.470                  NaN   \n",
       "5    Corporate  Standard Class  CA-2011-100916  788.860                  NaN   \n",
       "6     Consumer    Second Class  CA-2011-101266   13.360                  NaN   \n",
       "\n",
       "  Consumer Same Day  Consumer Second Class Consumer Standard Class  \\\n",
       "2               NaN                    NaN                     NaN   \n",
       "3               NaN                 129.44                     NaN   \n",
       "4               NaN                    NaN                  605.47   \n",
       "5               NaN                    NaN                     NaN   \n",
       "6               NaN                  13.36                     NaN   \n",
       "\n",
       "   Consumer Total Corporate Corporate Same Day Corporate Second Class  \\\n",
       "2             NaN       NaN                NaN                    NaN   \n",
       "3          129.44       NaN                NaN                    NaN   \n",
       "4          605.47       NaN                NaN                    NaN   \n",
       "5             NaN       NaN                NaN                    NaN   \n",
       "6           13.36       NaN                NaN                    NaN   \n",
       "\n",
       "  Corporate Standard Class  Corporate Total Home Office Home Office Same Day  \\\n",
       "2                      NaN              NaN         NaN                  NaN   \n",
       "3                      NaN              NaN         NaN                  NaN   \n",
       "4                      NaN              NaN         NaN                  NaN   \n",
       "5                   788.86           788.86         NaN                  NaN   \n",
       "6                      NaN              NaN         NaN                  NaN   \n",
       "\n",
       "  Home Office Second Class Home Office Standard Class  Home Office Total  \n",
       "2                      NaN                     91.056             91.056  \n",
       "3                      NaN                        NaN                NaN  \n",
       "4                      NaN                        NaN                NaN  \n",
       "5                      NaN                        NaN                NaN  \n",
       "6                      NaN                        NaN                NaN  "
      ]
     },
     "execution_count": 136,
     "metadata": {},
     "output_type": "execute_result"
    }
   ],
   "source": [
    "df.head()"
   ]
  },
  {
   "cell_type": "markdown",
   "metadata": {},
   "source": [
    "# Some numbers missing\n",
    "\n",
    "There are some rows that had no amount in the defined columns. They were either on the total column \n",
    "from each group or in the first column of the row, which is not supposed to have any data."
   ]
  },
  {
   "cell_type": "code",
   "execution_count": 135,
   "metadata": {},
   "outputs": [
    {
     "data": {
      "text/plain": [
       "Segment                        0\n",
       "Ship Mode                      0\n",
       "Order ID                      52\n",
       "Sales                          0\n",
       "Consumer First Class           0\n",
       "Consumer Same Day              0\n",
       "Consumer Second Class          0\n",
       "Consumer Standard Class        0\n",
       "Consumer Total                 0\n",
       "Corporate                     40\n",
       "Corporate Same Day             0\n",
       "Corporate Second Class         0\n",
       "Corporate Standard Class       0\n",
       "Corporate Total               40\n",
       "Home Office                   12\n",
       "Home Office Same Day           0\n",
       "Home Office Second Class       0\n",
       "Home Office Standard Class     0\n",
       "Home Office Total             12\n",
       "dtype: int64"
      ]
     },
     "execution_count": 135,
     "metadata": {},
     "output_type": "execute_result"
    }
   ],
   "source": [
    "filt = pd.isna(df['Segment']) == True\n",
    "\n",
    "df.loc[filt].count()"
   ]
  },
  {
   "cell_type": "code",
   "execution_count": 127,
   "metadata": {},
   "outputs": [
    {
     "data": {
      "text/plain": [
       "Index(['Segment', 'Ship Mode', 'Order ID', 'Sales', 'Consumer First Class',\n",
       "       'Consumer Same Day', 'Consumer Second Class', 'Consumer Standard Class',\n",
       "       'Consumer Total', 'Corporate', 'Corporate Same Day',\n",
       "       'Corporate Second Class', 'Corporate Standard Class', 'Corporate Total',\n",
       "       'Home Office', 'Home Office Same Day', 'Home Office Second Class',\n",
       "       'Home Office Standard Class', 'Home Office Total'],\n",
       "      dtype='object')"
      ]
     },
     "execution_count": 127,
     "metadata": {},
     "output_type": "execute_result"
    }
   ],
   "source": [
    "df.columns"
   ]
  },
  {
   "cell_type": "markdown",
   "metadata": {},
   "source": [
    "# Heatmap\n",
    "\n",
    "View empty and non-empty values"
   ]
  },
  {
   "cell_type": "code",
   "execution_count": 126,
   "metadata": {},
   "outputs": [
    {
     "data": {
      "text/plain": [
       "<AxesSubplot:>"
      ]
     },
     "execution_count": 126,
     "metadata": {},
     "output_type": "execute_result"
    },
    {
     "data": {
      "image/png": "[encoded data removed]",
      "text/plain": [
       "<Figure size 2160x720 with 2 Axes>"
      ]
     },
     "metadata": {
      "needs_background": "light"
     },
     "output_type": "display_data"
    }
   ],
   "source": [
    "nonempty_cells = df.notnull()\n",
    "\n",
    "plt.subplots(figsize=(30,10))\n",
    "\n",
    "sns.heatmap(nonempty_cells, cmap=sns.color_palette(['#fa0000', '#66cd00']))"
   ]
  }
 ],
 "metadata": {
  "interpreter": {
   "hash": "7d5c4801ed2f7111b96636c312e7b40cdf96baf0f798db38a95b8dd3c0de6eb6"
  },
  "kernelspec": {
   "display_name": "Python 3.9.7 ('base')",
   "language": "python",
   "name": "python3"
  },
  "language_info": {
   "codemirror_mode": {
    "name": "ipython",
    "version": 3
   },
   "file_extension": ".py",
   "mimetype": "text/x-python",
   "name": "python",
   "nbconvert_exporter": "python",
   "pygments_lexer": "ipython3",
   "version": "3.9.7"
  },
  "orig_nbformat": 4
 },
 "nbformat": 4,
 "nbformat_minor": 2
}
