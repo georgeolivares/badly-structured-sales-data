{
 "cells": [
  {
   "cell_type": "code",
   "execution_count": 127,
   "metadata": {},
   "outputs": [],
   "source": [
    "import pandas as pd\n",
    "\n",
    "import numpy as np\n",
    "\n",
    "import matplotlib.pyplot as plt\n",
    "\n",
    "import seaborn as sns"
   ]
  },
  {
   "cell_type": "code",
   "execution_count": 128,
   "metadata": {},
   "outputs": [],
   "source": [
    "# Read file\n",
    "\n",
    "df = pd.read_excel('C:\\\\Users\\\\jorge\\\\Documents\\\\GitHub\\\\badly-structured-sales-data\\\\1.-Badly-Structured-Sales-Data-1.xlsx')"
   ]
  },
  {
   "cell_type": "code",
   "execution_count": 188,
   "metadata": {},
   "outputs": [
    {
     "data": {
      "text/html": [
       "<div>\n",
       "<style scoped>\n",
       "    .dataframe tbody tr th:only-of-type {\n",
       "        vertical-align: middle;\n",
       "    }\n",
       "\n",
       "    .dataframe tbody tr th {\n",
       "        vertical-align: top;\n",
       "    }\n",
       "\n",
       "    .dataframe thead th {\n",
       "        text-align: right;\n",
       "    }\n",
       "</style>\n",
       "<table border=\"1\" class=\"dataframe\">\n",
       "  <thead>\n",
       "    <tr style=\"text-align: right;\">\n",
       "      <th></th>\n",
       "      <th>Segment</th>\n",
       "      <th>Consumer First Class</th>\n",
       "      <th>Consumer Same Day</th>\n",
       "      <th>Consumer Second Class</th>\n",
       "      <th>Consumer Standard Class</th>\n",
       "      <th>Consumer Total</th>\n",
       "      <th>Corporate</th>\n",
       "      <th>Consumer Same Day</th>\n",
       "      <th>Consumer Second Class</th>\n",
       "      <th>Consumer Standard Class</th>\n",
       "      <th>Corporate Total</th>\n",
       "      <th>Home Office</th>\n",
       "      <th>Consumer Same Day</th>\n",
       "      <th>Consumer Second Class</th>\n",
       "      <th>Consumer Standard Class</th>\n",
       "      <th>Home Office Total</th>\n",
       "    </tr>\n",
       "  </thead>\n",
       "  <tbody>\n",
       "    <tr>\n",
       "      <th>0</th>\n",
       "      <td>Ship Mode&gt;&gt;</td>\n",
       "      <td>First Class</td>\n",
       "      <td>Same Day</td>\n",
       "      <td>Second Class</td>\n",
       "      <td>Standard Class</td>\n",
       "      <td>NaN</td>\n",
       "      <td>First Class</td>\n",
       "      <td>Same Day</td>\n",
       "      <td>Second Class</td>\n",
       "      <td>Standard Class</td>\n",
       "      <td>NaN</td>\n",
       "      <td>First Class</td>\n",
       "      <td>Same Day</td>\n",
       "      <td>Second Class</td>\n",
       "      <td>Standard Class</td>\n",
       "      <td>NaN</td>\n",
       "    </tr>\n",
       "    <tr>\n",
       "      <th>1</th>\n",
       "      <td>Order ID</td>\n",
       "      <td>NaN</td>\n",
       "      <td>NaN</td>\n",
       "      <td>NaN</td>\n",
       "      <td>NaN</td>\n",
       "      <td>NaN</td>\n",
       "      <td>NaN</td>\n",
       "      <td>NaN</td>\n",
       "      <td>NaN</td>\n",
       "      <td>NaN</td>\n",
       "      <td>NaN</td>\n",
       "      <td>NaN</td>\n",
       "      <td>NaN</td>\n",
       "      <td>NaN</td>\n",
       "      <td>NaN</td>\n",
       "      <td>NaN</td>\n",
       "    </tr>\n",
       "    <tr>\n",
       "      <th>2</th>\n",
       "      <td>CA-2011-100293</td>\n",
       "      <td>NaN</td>\n",
       "      <td>NaN</td>\n",
       "      <td>NaN</td>\n",
       "      <td>NaN</td>\n",
       "      <td>NaN</td>\n",
       "      <td>NaN</td>\n",
       "      <td>NaN</td>\n",
       "      <td>NaN</td>\n",
       "      <td>NaN</td>\n",
       "      <td>NaN</td>\n",
       "      <td>NaN</td>\n",
       "      <td>NaN</td>\n",
       "      <td>NaN</td>\n",
       "      <td>91.056</td>\n",
       "      <td>91.056</td>\n",
       "    </tr>\n",
       "    <tr>\n",
       "      <th>3</th>\n",
       "      <td>CA-2011-100706</td>\n",
       "      <td>NaN</td>\n",
       "      <td>NaN</td>\n",
       "      <td>129.44</td>\n",
       "      <td>NaN</td>\n",
       "      <td>129.44</td>\n",
       "      <td>NaN</td>\n",
       "      <td>NaN</td>\n",
       "      <td>NaN</td>\n",
       "      <td>NaN</td>\n",
       "      <td>NaN</td>\n",
       "      <td>NaN</td>\n",
       "      <td>NaN</td>\n",
       "      <td>NaN</td>\n",
       "      <td>NaN</td>\n",
       "      <td>NaN</td>\n",
       "    </tr>\n",
       "    <tr>\n",
       "      <th>4</th>\n",
       "      <td>CA-2011-100895</td>\n",
       "      <td>NaN</td>\n",
       "      <td>NaN</td>\n",
       "      <td>NaN</td>\n",
       "      <td>605.47</td>\n",
       "      <td>605.47</td>\n",
       "      <td>NaN</td>\n",
       "      <td>NaN</td>\n",
       "      <td>NaN</td>\n",
       "      <td>NaN</td>\n",
       "      <td>NaN</td>\n",
       "      <td>NaN</td>\n",
       "      <td>NaN</td>\n",
       "      <td>NaN</td>\n",
       "      <td>NaN</td>\n",
       "      <td>NaN</td>\n",
       "    </tr>\n",
       "  </tbody>\n",
       "</table>\n",
       "</div>"
      ],
      "text/plain": [
       "          Segment Consumer First Class Consumer Same Day  \\\n",
       "0     Ship Mode>>          First Class          Same Day   \n",
       "1        Order ID                  NaN               NaN   \n",
       "2  CA-2011-100293                  NaN               NaN   \n",
       "3  CA-2011-100706                  NaN               NaN   \n",
       "4  CA-2011-100895                  NaN               NaN   \n",
       "\n",
       "  Consumer Second Class Consumer Standard Class  Consumer Total    Corporate  \\\n",
       "0          Second Class          Standard Class             NaN  First Class   \n",
       "1                   NaN                     NaN             NaN          NaN   \n",
       "2                   NaN                     NaN             NaN          NaN   \n",
       "3                129.44                     NaN          129.44          NaN   \n",
       "4                   NaN                  605.47          605.47          NaN   \n",
       "\n",
       "  Consumer Same Day Consumer Second Class Consumer Standard Class  \\\n",
       "0          Same Day          Second Class          Standard Class   \n",
       "1               NaN                   NaN                     NaN   \n",
       "2               NaN                   NaN                     NaN   \n",
       "3               NaN                   NaN                     NaN   \n",
       "4               NaN                   NaN                     NaN   \n",
       "\n",
       "   Corporate Total  Home Office Consumer Same Day Consumer Second Class  \\\n",
       "0              NaN  First Class          Same Day          Second Class   \n",
       "1              NaN          NaN               NaN                   NaN   \n",
       "2              NaN          NaN               NaN                   NaN   \n",
       "3              NaN          NaN               NaN                   NaN   \n",
       "4              NaN          NaN               NaN                   NaN   \n",
       "\n",
       "  Consumer Standard Class  Home Office Total  \n",
       "0          Standard Class                NaN  \n",
       "1                     NaN                NaN  \n",
       "2                  91.056             91.056  \n",
       "3                     NaN                NaN  \n",
       "4                     NaN                NaN  "
      ]
     },
     "execution_count": 188,
     "metadata": {},
     "output_type": "execute_result"
    }
   ],
   "source": [
    "df.head()"
   ]
  },
  {
   "cell_type": "code",
   "execution_count": 130,
   "metadata": {},
   "outputs": [
    {
     "data": {
      "text/plain": [
       "(825, 16)"
      ]
     },
     "execution_count": 130,
     "metadata": {},
     "output_type": "execute_result"
    }
   ],
   "source": [
    "# Row and column count\n",
    "\n",
    "df.shape"
   ]
  },
  {
   "cell_type": "code",
   "execution_count": 132,
   "metadata": {},
   "outputs": [
    {
     "name": "stdout",
     "output_type": "stream",
     "text": [
      "Index(['Segment>>', 'Consumer', 'Same Day', 'Second Class', 'Standard Class',\n",
      "       'Consumer Total', 'Corporate', 'Same Day', 'Second Class',\n",
      "       'Standard Class', 'Corporate Total', 'Home Office', 'Same Day',\n",
      "       'Second Class', 'Standard Class', 'Home Office Total'],\n",
      "      dtype='object')\n"
     ]
    }
   ],
   "source": [
    "# Find columns with unnamed string\n",
    "\n",
    "filt_contains_unnamed = df.columns.str.contains('Unnamed')\n",
    "\n",
    "# Replace columns with string 'Unnamed'\n",
    "\n",
    "col_ind = 0\n",
    "\n",
    "new_cols = []\n",
    "\n",
    "for i in df.columns.str.contains('Unnamed'):\n",
    "    if i == True:\n",
    "        new_cols.append(df.iloc[0, col_ind])\n",
    "    else:\n",
    "        new_cols.append(df.columns[col_ind])\n",
    "    col_ind += 1\n",
    "\n",
    "df.columns = new_cols\n",
    "\n",
    "print(df.columns)"
   ]
  },
  {
   "cell_type": "code",
   "execution_count": 133,
   "metadata": {},
   "outputs": [
    {
     "name": "stdout",
     "output_type": "stream",
     "text": [
      "Index(['Segment', 'Consumer', 'Same Day', 'Second Class', 'Standard Class',\n",
      "       'Consumer Total', 'Corporate', 'Same Day', 'Second Class',\n",
      "       'Standard Class', 'Corporate Total', 'Home Office', 'Same Day',\n",
      "       'Second Class', 'Standard Class', 'Home Office Total'],\n",
      "      dtype='object')\n"
     ]
    }
   ],
   "source": [
    "# Remove special characters from column names\n",
    "\n",
    "df.columns = df.columns.str.replace('>', '')\n",
    "\n",
    "# df.columns = df.columns.str.replace('[>, @, #]', '')\n",
    "\n",
    "print(df.columns)"
   ]
  },
  {
   "cell_type": "code",
   "execution_count": 137,
   "metadata": {},
   "outputs": [
    {
     "data": {
      "text/plain": [
       "Segment                 Ship Mode>>\n",
       "Consumer                First Class\n",
       "Same Day                   Same Day\n",
       "Second Class           Second Class\n",
       "Standard Class       Standard Class\n",
       "Consumer Total                  NaN\n",
       "Corporate               First Class\n",
       "Same Day                   Same Day\n",
       "Second Class           Second Class\n",
       "Standard Class       Standard Class\n",
       "Corporate Total                 NaN\n",
       "Home Office             First Class\n",
       "Same Day                   Same Day\n",
       "Second Class           Second Class\n",
       "Standard Class       Standard Class\n",
       "Home Office Total               NaN\n",
       "Name: 0, dtype: object"
      ]
     },
     "execution_count": 137,
     "metadata": {},
     "output_type": "execute_result"
    }
   ],
   "source": [
    "# Some column names are located in first row\n",
    "\n",
    "df.iloc[0]"
   ]
  },
  {
   "cell_type": "code",
   "execution_count": null,
   "metadata": {},
   "outputs": [],
   "source": [
    "# Rename columns - Option 1 --------------------------------------------\n",
    "\n",
    "# column_indices = [*range(1, 5)]\n",
    "# new_names = ['Consumer First Class', 'Consumer Same Day', 'Consumer Second Class', 'Consumer Standard Class']\n",
    "# old_names = df.columns[column_indices]\n",
    "# df.rename(columns=dict(zip(old_names, new_names)), inplace=True)"
   ]
  },
  {
   "cell_type": "code",
   "execution_count": null,
   "metadata": {},
   "outputs": [],
   "source": [
    "# Rename columns - Option 2 --------------------------------------------\n",
    "\n",
    "# cols_consumer = [i for i in df.columns[1:5]]\n",
    "# num = 1\n",
    "\n",
    "# for i in cols_consumer:\n",
    "#     test = ' '.join(('Consumer', i))\n",
    "#     df.rename(columns={df.columns[num]: test}, inplace= True)\n",
    "#     print(df.columns[num])\n",
    "#     num += 1"
   ]
  },
  {
   "cell_type": "code",
   "execution_count": 225,
   "metadata": {},
   "outputs": [
    {
     "data": {
      "text/plain": [
       "Index(['Segment', 'Consumer First Class', 'Consumer Same Day',\n",
       "       'Consumer Second Class', 'Consumer Standard Class', 'Consumer Total',\n",
       "       'Corporate', 'Corporate Same Day', 'Corporate Second Class',\n",
       "       'Corporate Standard Class', 'Corporate Total', 'Home Office',\n",
       "       'Home Office Same Day', 'Home Office Second Class',\n",
       "       'Home Office Standard Class', 'Home Office Total'],\n",
       "      dtype='object')"
      ]
     },
     "execution_count": 225,
     "metadata": {},
     "output_type": "execute_result"
    }
   ],
   "source": [
    "# Rename columns - Option 3 -------------------------------------------\n",
    "\n",
    "df.columns = ['Segment', 'Consumer First Class', 'Consumer Same Day',\n",
    "       'Consumer Second Class', 'Consumer Standard Class', 'Consumer Total',\n",
    "       'Corporate', 'Corporate Same Day', 'Corporate Second Class',\n",
    "       'Corporate Standard Class', 'Corporate Total', 'Home Office',\n",
    "       'Home Office Same Day', 'Home Office Second Class', 'Home Office Standard Class',\n",
    "       'Home Office Total']\n",
    "\n",
    "df.columns"
   ]
  },
  {
   "cell_type": "code",
   "execution_count": 189,
   "metadata": {},
   "outputs": [
    {
     "data": {
      "text/plain": [
       "<AxesSubplot:>"
      ]
     },
     "execution_count": 189,
     "metadata": {},
     "output_type": "execute_result"
    },
    {
     "data": {
      "image/png": "[encoded data removed]",
      "text/plain": [
       "<Figure size 2160x720 with 2 Axes>"
      ]
     },
     "metadata": {
      "needs_background": "light"
     },
     "output_type": "display_data"
    }
   ],
   "source": [
    "# View empty and non-empty values\n",
    "\n",
    "nonempty_cells = df.notnull()\n",
    "\n",
    "plt.subplots(figsize=(30,10))\n",
    "\n",
    "sns.heatmap(nonempty_cells, cmap=sns.color_palette(['#fa0000', '#66cd00']))"
   ]
  },
  {
   "cell_type": "code",
   "execution_count": 195,
   "metadata": {},
   "outputs": [
    {
     "data": {
      "text/html": [
       "<div>\n",
       "<style scoped>\n",
       "    .dataframe tbody tr th:only-of-type {\n",
       "        vertical-align: middle;\n",
       "    }\n",
       "\n",
       "    .dataframe tbody tr th {\n",
       "        vertical-align: top;\n",
       "    }\n",
       "\n",
       "    .dataframe thead th {\n",
       "        text-align: right;\n",
       "    }\n",
       "</style>\n",
       "<table border=\"1\" class=\"dataframe\">\n",
       "  <thead>\n",
       "    <tr style=\"text-align: right;\">\n",
       "      <th></th>\n",
       "      <th>Segment</th>\n",
       "      <th>Consumer First Class</th>\n",
       "      <th>Consumer Same Day</th>\n",
       "      <th>Consumer Second Class</th>\n",
       "      <th>Consumer Standard Class</th>\n",
       "      <th>Consumer Total</th>\n",
       "    </tr>\n",
       "  </thead>\n",
       "  <tbody>\n",
       "    <tr>\n",
       "      <th>0</th>\n",
       "      <td>False</td>\n",
       "      <td>False</td>\n",
       "      <td>False</td>\n",
       "      <td>False</td>\n",
       "      <td>False</td>\n",
       "      <td>True</td>\n",
       "    </tr>\n",
       "    <tr>\n",
       "      <th>1</th>\n",
       "      <td>False</td>\n",
       "      <td>True</td>\n",
       "      <td>True</td>\n",
       "      <td>True</td>\n",
       "      <td>True</td>\n",
       "      <td>True</td>\n",
       "    </tr>\n",
       "    <tr>\n",
       "      <th>2</th>\n",
       "      <td>False</td>\n",
       "      <td>True</td>\n",
       "      <td>True</td>\n",
       "      <td>True</td>\n",
       "      <td>True</td>\n",
       "      <td>True</td>\n",
       "    </tr>\n",
       "    <tr>\n",
       "      <th>3</th>\n",
       "      <td>False</td>\n",
       "      <td>True</td>\n",
       "      <td>True</td>\n",
       "      <td>False</td>\n",
       "      <td>True</td>\n",
       "      <td>False</td>\n",
       "    </tr>\n",
       "    <tr>\n",
       "      <th>4</th>\n",
       "      <td>False</td>\n",
       "      <td>True</td>\n",
       "      <td>True</td>\n",
       "      <td>True</td>\n",
       "      <td>False</td>\n",
       "      <td>False</td>\n",
       "    </tr>\n",
       "    <tr>\n",
       "      <th>...</th>\n",
       "      <td>...</td>\n",
       "      <td>...</td>\n",
       "      <td>...</td>\n",
       "      <td>...</td>\n",
       "      <td>...</td>\n",
       "      <td>...</td>\n",
       "    </tr>\n",
       "    <tr>\n",
       "      <th>820</th>\n",
       "      <td>False</td>\n",
       "      <td>True</td>\n",
       "      <td>True</td>\n",
       "      <td>True</td>\n",
       "      <td>True</td>\n",
       "      <td>True</td>\n",
       "    </tr>\n",
       "    <tr>\n",
       "      <th>821</th>\n",
       "      <td>False</td>\n",
       "      <td>True</td>\n",
       "      <td>True</td>\n",
       "      <td>False</td>\n",
       "      <td>True</td>\n",
       "      <td>False</td>\n",
       "    </tr>\n",
       "    <tr>\n",
       "      <th>822</th>\n",
       "      <td>False</td>\n",
       "      <td>True</td>\n",
       "      <td>True</td>\n",
       "      <td>True</td>\n",
       "      <td>True</td>\n",
       "      <td>True</td>\n",
       "    </tr>\n",
       "    <tr>\n",
       "      <th>823</th>\n",
       "      <td>False</td>\n",
       "      <td>True</td>\n",
       "      <td>True</td>\n",
       "      <td>True</td>\n",
       "      <td>False</td>\n",
       "      <td>False</td>\n",
       "    </tr>\n",
       "    <tr>\n",
       "      <th>824</th>\n",
       "      <td>False</td>\n",
       "      <td>False</td>\n",
       "      <td>False</td>\n",
       "      <td>False</td>\n",
       "      <td>False</td>\n",
       "      <td>False</td>\n",
       "    </tr>\n",
       "  </tbody>\n",
       "</table>\n",
       "<p>825 rows × 6 columns</p>\n",
       "</div>"
      ],
      "text/plain": [
       "     Segment  Consumer First Class  Consumer Same Day  Consumer Second Class  \\\n",
       "0      False                 False              False                  False   \n",
       "1      False                  True               True                   True   \n",
       "2      False                  True               True                   True   \n",
       "3      False                  True               True                  False   \n",
       "4      False                  True               True                   True   \n",
       "..       ...                   ...                ...                    ...   \n",
       "820    False                  True               True                   True   \n",
       "821    False                  True               True                  False   \n",
       "822    False                  True               True                   True   \n",
       "823    False                  True               True                   True   \n",
       "824    False                 False              False                  False   \n",
       "\n",
       "     Consumer Standard Class  Consumer Total  \n",
       "0                      False            True  \n",
       "1                       True            True  \n",
       "2                       True            True  \n",
       "3                       True           False  \n",
       "4                      False           False  \n",
       "..                       ...             ...  \n",
       "820                     True            True  \n",
       "821                     True           False  \n",
       "822                     True            True  \n",
       "823                    False           False  \n",
       "824                    False           False  \n",
       "\n",
       "[825 rows x 6 columns]"
      ]
     },
     "execution_count": 195,
     "metadata": {},
     "output_type": "execute_result"
    }
   ],
   "source": [
    "df.iloc[:, 0:6].isnull()"
   ]
  }
 ],
 "metadata": {
  "interpreter": {
   "hash": "7d5c4801ed2f7111b96636c312e7b40cdf96baf0f798db38a95b8dd3c0de6eb6"
  },
  "kernelspec": {
   "display_name": "Python 3.9.7 ('base')",
   "language": "python",
   "name": "python3"
  },
  "language_info": {
   "codemirror_mode": {
    "name": "ipython",
    "version": 3
   },
   "file_extension": ".py",
   "mimetype": "text/x-python",
   "name": "python",
   "nbconvert_exporter": "python",
   "pygments_lexer": "ipython3",
   "version": "3.9.7"
  },
  "orig_nbformat": 4
 },
 "nbformat": 4,
 "nbformat_minor": 2
}
