{
 "cells": [
  {
   "cell_type": "code",
   "execution_count": 5,
   "metadata": {},
   "outputs": [],
   "source": [
    "import pandas as pd"
   ]
  },
  {
   "cell_type": "code",
   "execution_count": 8,
   "metadata": {},
   "outputs": [],
   "source": [
    "# Read file\n",
    "\n",
    "df = pd.read_excel('C:\\\\Users\\\\jorge\\\\Documents\\\\GitHub\\\\badly-structured-sales-data\\\\1.-Badly-Structured-Sales-Data-1.xlsx')"
   ]
  }
 ],
 "metadata": {
  "interpreter": {
   "hash": "7d5c4801ed2f7111b96636c312e7b40cdf96baf0f798db38a95b8dd3c0de6eb6"
  },
  "kernelspec": {
   "display_name": "Python 3.9.7 ('base')",
   "language": "python",
   "name": "python3"
  },
  "language_info": {
   "codemirror_mode": {
    "name": "ipython",
    "version": 3
   },
   "file_extension": ".py",
   "mimetype": "text/x-python",
   "name": "python",
   "nbconvert_exporter": "python",
   "pygments_lexer": "ipython3",
   "version": "3.9.7"
  },
  "orig_nbformat": 4
 },
 "nbformat": 4,
 "nbformat_minor": 2
}
